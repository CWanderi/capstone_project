{
 "cells": [
  {
   "cell_type": "markdown",
   "metadata": {},
   "source": [
    "# Objectives:\n"
   ]
  },
  {
   "cell_type": "markdown",
   "metadata": {},
   "source": [
    "* create a chatbot for farmers to inquire about weather and planting conditions for optimal crop planting weather/ seasons"
   ]
  },
  {
   "cell_type": "code",
   "execution_count": null,
   "metadata": {},
   "outputs": [],
   "source": []
  },
  {
   "cell_type": "markdown",
   "metadata": {},
   "source": [
    "## About this project:"
   ]
  },
  {
   "cell_type": "code",
   "execution_count": null,
   "metadata": {},
   "outputs": [],
   "source": []
  },
  {
   "cell_type": "code",
   "execution_count": null,
   "metadata": {},
   "outputs": [],
   "source": []
  },
  {
   "cell_type": "markdown",
   "metadata": {},
   "source": [
    "#### EDA:"
   ]
  },
  {
   "cell_type": "code",
   "execution_count": 1,
   "metadata": {},
   "outputs": [],
   "source": [
    "#importing libraries\n",
    "import pandas as pd\n",
    "import numpy as np\n",
    "import matplotlib.pyplot as plt\n",
    "%matplotlib inline\n",
    "\n"
   ]
  },
  {
   "cell_type": "markdown",
   "metadata": {},
   "source": [
    "#### Processes:\n",
    "* .head() - allows us to view the first five items iin the database\n",
    "* .shape - shows us the rows and columns \n",
    "* .isna().sum() - calculates the colum valuse with null values\n",
    "* .drop() - allows us to drop columns that are not being used to reduce clutter and improve useabillity\n",
    "* .fillna(0) - replaces the null values with \"0\"\n",
    "* .describe() - shows a statistical summary of the dataset\n"
   ]
  },
  {
   "cell_type": "markdown",
   "metadata": {},
   "source": [
    "#### Kenya-weather-data-gyga-format:   LARGE FILE!!\n"
   ]
  },
  {
   "cell_type": "code",
   "execution_count": 2,
   "metadata": {},
   "outputs": [
    {
     "data": {
      "text/html": [
       "<div>\n",
       "<style scoped>\n",
       "    .dataframe tbody tr th:only-of-type {\n",
       "        vertical-align: middle;\n",
       "    }\n",
       "\n",
       "    .dataframe tbody tr th {\n",
       "        vertical-align: top;\n",
       "    }\n",
       "\n",
       "    .dataframe thead th {\n",
       "        text-align: right;\n",
       "    }\n",
       "</style>\n",
       "<table border=\"1\" class=\"dataframe\">\n",
       "  <thead>\n",
       "    <tr style=\"text-align: right;\">\n",
       "      <th></th>\n",
       "      <th>station_id</th>\n",
       "      <th>country</th>\n",
       "      <th>DOY</th>\n",
       "      <th>date</th>\n",
       "      <th>year</th>\n",
       "      <th>month</th>\n",
       "      <th>day</th>\n",
       "      <th>srad</th>\n",
       "      <th>tmax</th>\n",
       "      <th>tmin</th>\n",
       "      <th>...</th>\n",
       "      <th>srad_inf</th>\n",
       "      <th>tmin_inf</th>\n",
       "      <th>tmax_inf</th>\n",
       "      <th>rain_inf</th>\n",
       "      <th>rh_inf</th>\n",
       "      <th>wind_inf</th>\n",
       "      <th>vp_inf</th>\n",
       "      <th>tdew_inf</th>\n",
       "      <th>sunhrs_inf</th>\n",
       "      <th>et_inf</th>\n",
       "    </tr>\n",
       "  </thead>\n",
       "  <tbody>\n",
       "    <tr>\n",
       "      <th>0</th>\n",
       "      <td>9000000</td>\n",
       "      <td>Kenya</td>\n",
       "      <td>1</td>\n",
       "      <td>1992-01-01</td>\n",
       "      <td>1992</td>\n",
       "      <td>1</td>\n",
       "      <td>1</td>\n",
       "      <td>23.0</td>\n",
       "      <td>23.9</td>\n",
       "      <td>11.3</td>\n",
       "      <td>...</td>\n",
       "      <td>gridded</td>\n",
       "      <td>observed</td>\n",
       "      <td>observed</td>\n",
       "      <td>observed</td>\n",
       "      <td>gridded</td>\n",
       "      <td>assumed constant</td>\n",
       "      <td>NaN</td>\n",
       "      <td>NaN</td>\n",
       "      <td>NaN</td>\n",
       "      <td>NaN</td>\n",
       "    </tr>\n",
       "    <tr>\n",
       "      <th>1</th>\n",
       "      <td>9000000</td>\n",
       "      <td>Kenya</td>\n",
       "      <td>2</td>\n",
       "      <td>1992-01-02</td>\n",
       "      <td>1992</td>\n",
       "      <td>1</td>\n",
       "      <td>2</td>\n",
       "      <td>23.0</td>\n",
       "      <td>26.1</td>\n",
       "      <td>13.1</td>\n",
       "      <td>...</td>\n",
       "      <td>gridded</td>\n",
       "      <td>observed</td>\n",
       "      <td>observed</td>\n",
       "      <td>observed</td>\n",
       "      <td>gridded</td>\n",
       "      <td>assumed constant</td>\n",
       "      <td>NaN</td>\n",
       "      <td>NaN</td>\n",
       "      <td>NaN</td>\n",
       "      <td>NaN</td>\n",
       "    </tr>\n",
       "    <tr>\n",
       "      <th>2</th>\n",
       "      <td>9000000</td>\n",
       "      <td>Kenya</td>\n",
       "      <td>3</td>\n",
       "      <td>1992-01-03</td>\n",
       "      <td>1992</td>\n",
       "      <td>1</td>\n",
       "      <td>3</td>\n",
       "      <td>22.0</td>\n",
       "      <td>26.0</td>\n",
       "      <td>12.6</td>\n",
       "      <td>...</td>\n",
       "      <td>gridded</td>\n",
       "      <td>observed</td>\n",
       "      <td>observed</td>\n",
       "      <td>observed</td>\n",
       "      <td>gridded</td>\n",
       "      <td>assumed constant</td>\n",
       "      <td>NaN</td>\n",
       "      <td>NaN</td>\n",
       "      <td>NaN</td>\n",
       "      <td>NaN</td>\n",
       "    </tr>\n",
       "    <tr>\n",
       "      <th>3</th>\n",
       "      <td>9000000</td>\n",
       "      <td>Kenya</td>\n",
       "      <td>4</td>\n",
       "      <td>1992-01-04</td>\n",
       "      <td>1992</td>\n",
       "      <td>1</td>\n",
       "      <td>4</td>\n",
       "      <td>21.0</td>\n",
       "      <td>25.0</td>\n",
       "      <td>12.6</td>\n",
       "      <td>...</td>\n",
       "      <td>gridded</td>\n",
       "      <td>observed</td>\n",
       "      <td>observed</td>\n",
       "      <td>observed</td>\n",
       "      <td>gridded</td>\n",
       "      <td>assumed constant</td>\n",
       "      <td>NaN</td>\n",
       "      <td>NaN</td>\n",
       "      <td>NaN</td>\n",
       "      <td>NaN</td>\n",
       "    </tr>\n",
       "    <tr>\n",
       "      <th>4</th>\n",
       "      <td>9000000</td>\n",
       "      <td>Kenya</td>\n",
       "      <td>5</td>\n",
       "      <td>1992-01-05</td>\n",
       "      <td>1992</td>\n",
       "      <td>1</td>\n",
       "      <td>5</td>\n",
       "      <td>27.0</td>\n",
       "      <td>22.4</td>\n",
       "      <td>12.2</td>\n",
       "      <td>...</td>\n",
       "      <td>gridded</td>\n",
       "      <td>observed</td>\n",
       "      <td>observed</td>\n",
       "      <td>observed</td>\n",
       "      <td>gridded</td>\n",
       "      <td>assumed constant</td>\n",
       "      <td>NaN</td>\n",
       "      <td>NaN</td>\n",
       "      <td>NaN</td>\n",
       "      <td>NaN</td>\n",
       "    </tr>\n",
       "  </tbody>\n",
       "</table>\n",
       "<p>5 rows × 27 columns</p>\n",
       "</div>"
      ],
      "text/plain": [
       "   station_id country  DOY       date  year  month  day  srad  tmax  tmin  \\\n",
       "0     9000000   Kenya    1 1992-01-01  1992      1    1  23.0  23.9  11.3   \n",
       "1     9000000   Kenya    2 1992-01-02  1992      1    2  23.0  26.1  13.1   \n",
       "2     9000000   Kenya    3 1992-01-03  1992      1    3  22.0  26.0  12.6   \n",
       "3     9000000   Kenya    4 1992-01-04  1992      1    4  21.0  25.0  12.6   \n",
       "4     9000000   Kenya    5 1992-01-05  1992      1    5  27.0  22.4  12.2   \n",
       "\n",
       "   ...  srad_inf  tmin_inf  tmax_inf  rain_inf   rh_inf          wind_inf  \\\n",
       "0  ...   gridded  observed  observed  observed  gridded  assumed constant   \n",
       "1  ...   gridded  observed  observed  observed  gridded  assumed constant   \n",
       "2  ...   gridded  observed  observed  observed  gridded  assumed constant   \n",
       "3  ...   gridded  observed  observed  observed  gridded  assumed constant   \n",
       "4  ...   gridded  observed  observed  observed  gridded  assumed constant   \n",
       "\n",
       "   vp_inf tdew_inf sunhrs_inf et_inf  \n",
       "0     NaN      NaN        NaN    NaN  \n",
       "1     NaN      NaN        NaN    NaN  \n",
       "2     NaN      NaN        NaN    NaN  \n",
       "3     NaN      NaN        NaN    NaN  \n",
       "4     NaN      NaN        NaN    NaN  \n",
       "\n",
       "[5 rows x 27 columns]"
      ]
     },
     "execution_count": 2,
     "metadata": {},
     "output_type": "execute_result"
    }
   ],
   "source": [
    "weather_data = pd.read_excel('datasets/Kenya-weather-data-gyga-format.xlsx',sheet_name='Kenya')\n",
    "weather_data.head()"
   ]
  },
  {
   "cell_type": "code",
   "execution_count": 3,
   "metadata": {},
   "outputs": [
    {
     "data": {
      "text/plain": [
       "(136235, 27)"
      ]
     },
     "execution_count": 3,
     "metadata": {},
     "output_type": "execute_result"
    }
   ],
   "source": [
    "weather_data.shape"
   ]
  },
  {
   "cell_type": "code",
   "execution_count": 4,
   "metadata": {},
   "outputs": [
    {
     "data": {
      "text/plain": [
       "station_id         0\n",
       "country            0\n",
       "DOY                0\n",
       "date               0\n",
       "year               0\n",
       "month              0\n",
       "day                0\n",
       "srad               0\n",
       "tmax               0\n",
       "tmin               0\n",
       "rain               0\n",
       "rh                 0\n",
       "wind           15355\n",
       "vp            136235\n",
       "tdew          136235\n",
       "sunhrs        136235\n",
       "et            136235\n",
       "srad_inf           0\n",
       "tmin_inf           0\n",
       "tmax_inf           0\n",
       "rain_inf           0\n",
       "rh_inf             0\n",
       "wind_inf       15355\n",
       "vp_inf        136235\n",
       "tdew_inf      136235\n",
       "sunhrs_inf    136235\n",
       "et_inf        136235\n",
       "dtype: int64"
      ]
     },
     "execution_count": 4,
     "metadata": {},
     "output_type": "execute_result"
    }
   ],
   "source": [
    "weather_data.isna().sum()"
   ]
  },
  {
   "cell_type": "code",
   "execution_count": 5,
   "metadata": {},
   "outputs": [
    {
     "data": {
      "text/plain": [
       "station_id    0\n",
       "country       0\n",
       "DOY           0\n",
       "date          0\n",
       "year          0\n",
       "month         0\n",
       "day           0\n",
       "srad          0\n",
       "tmax          0\n",
       "tmin          0\n",
       "rain          0\n",
       "rh            0\n",
       "dtype: int64"
      ]
     },
     "execution_count": 5,
     "metadata": {},
     "output_type": "execute_result"
    }
   ],
   "source": [
    "#dropping null columns to clean the data and reduce unecessary columns\n",
    "weather_data= weather_data.drop(columns=[\"srad_inf\", \"tmin_inf\", \"tmax_inf\", \"rain_inf\", \"rh_inf\", \"wind_inf\", \"vp_inf\", \"tdew_inf\", \"sunhrs_inf\", \"et_inf\", \"wind\", \"vp\", \"tdew\", \"sunhrs\", \"et\"])\n",
    "weather_data.isna().sum()"
   ]
  },
  {
   "cell_type": "code",
   "execution_count": 6,
   "metadata": {},
   "outputs": [
    {
     "data": {
      "text/html": [
       "<div>\n",
       "<style scoped>\n",
       "    .dataframe tbody tr th:only-of-type {\n",
       "        vertical-align: middle;\n",
       "    }\n",
       "\n",
       "    .dataframe tbody tr th {\n",
       "        vertical-align: top;\n",
       "    }\n",
       "\n",
       "    .dataframe thead th {\n",
       "        text-align: right;\n",
       "    }\n",
       "</style>\n",
       "<table border=\"1\" class=\"dataframe\">\n",
       "  <thead>\n",
       "    <tr style=\"text-align: right;\">\n",
       "      <th></th>\n",
       "      <th>station_id</th>\n",
       "      <th>country</th>\n",
       "      <th>DOY</th>\n",
       "      <th>date</th>\n",
       "      <th>year</th>\n",
       "      <th>month</th>\n",
       "      <th>day</th>\n",
       "      <th>srad</th>\n",
       "      <th>tmax</th>\n",
       "      <th>tmin</th>\n",
       "      <th>rain</th>\n",
       "      <th>rh</th>\n",
       "    </tr>\n",
       "  </thead>\n",
       "  <tbody>\n",
       "    <tr>\n",
       "      <th>0</th>\n",
       "      <td>9000000</td>\n",
       "      <td>Kenya</td>\n",
       "      <td>1</td>\n",
       "      <td>1992-01-01</td>\n",
       "      <td>1992</td>\n",
       "      <td>1</td>\n",
       "      <td>1</td>\n",
       "      <td>23.0</td>\n",
       "      <td>23.9</td>\n",
       "      <td>11.3</td>\n",
       "      <td>0.0</td>\n",
       "      <td>57.0</td>\n",
       "    </tr>\n",
       "    <tr>\n",
       "      <th>1</th>\n",
       "      <td>9000000</td>\n",
       "      <td>Kenya</td>\n",
       "      <td>2</td>\n",
       "      <td>1992-01-02</td>\n",
       "      <td>1992</td>\n",
       "      <td>1</td>\n",
       "      <td>2</td>\n",
       "      <td>23.0</td>\n",
       "      <td>26.1</td>\n",
       "      <td>13.1</td>\n",
       "      <td>0.0</td>\n",
       "      <td>44.0</td>\n",
       "    </tr>\n",
       "    <tr>\n",
       "      <th>2</th>\n",
       "      <td>9000000</td>\n",
       "      <td>Kenya</td>\n",
       "      <td>3</td>\n",
       "      <td>1992-01-03</td>\n",
       "      <td>1992</td>\n",
       "      <td>1</td>\n",
       "      <td>3</td>\n",
       "      <td>22.0</td>\n",
       "      <td>26.0</td>\n",
       "      <td>12.6</td>\n",
       "      <td>0.0</td>\n",
       "      <td>45.0</td>\n",
       "    </tr>\n",
       "    <tr>\n",
       "      <th>3</th>\n",
       "      <td>9000000</td>\n",
       "      <td>Kenya</td>\n",
       "      <td>4</td>\n",
       "      <td>1992-01-04</td>\n",
       "      <td>1992</td>\n",
       "      <td>1</td>\n",
       "      <td>4</td>\n",
       "      <td>21.0</td>\n",
       "      <td>25.0</td>\n",
       "      <td>12.6</td>\n",
       "      <td>0.0</td>\n",
       "      <td>49.0</td>\n",
       "    </tr>\n",
       "    <tr>\n",
       "      <th>4</th>\n",
       "      <td>9000000</td>\n",
       "      <td>Kenya</td>\n",
       "      <td>5</td>\n",
       "      <td>1992-01-05</td>\n",
       "      <td>1992</td>\n",
       "      <td>1</td>\n",
       "      <td>5</td>\n",
       "      <td>27.0</td>\n",
       "      <td>22.4</td>\n",
       "      <td>12.2</td>\n",
       "      <td>0.0</td>\n",
       "      <td>43.0</td>\n",
       "    </tr>\n",
       "  </tbody>\n",
       "</table>\n",
       "</div>"
      ],
      "text/plain": [
       "   station_id country  DOY       date  year  month  day  srad  tmax  tmin  \\\n",
       "0     9000000   Kenya    1 1992-01-01  1992      1    1  23.0  23.9  11.3   \n",
       "1     9000000   Kenya    2 1992-01-02  1992      1    2  23.0  26.1  13.1   \n",
       "2     9000000   Kenya    3 1992-01-03  1992      1    3  22.0  26.0  12.6   \n",
       "3     9000000   Kenya    4 1992-01-04  1992      1    4  21.0  25.0  12.6   \n",
       "4     9000000   Kenya    5 1992-01-05  1992      1    5  27.0  22.4  12.2   \n",
       "\n",
       "   rain    rh  \n",
       "0   0.0  57.0  \n",
       "1   0.0  44.0  \n",
       "2   0.0  45.0  \n",
       "3   0.0  49.0  \n",
       "4   0.0  43.0  "
      ]
     },
     "execution_count": 6,
     "metadata": {},
     "output_type": "execute_result"
    }
   ],
   "source": [
    "weather_data.head()"
   ]
  },
  {
   "cell_type": "markdown",
   "metadata": {},
   "source": [
    "#### Temperature change on land:"
   ]
  },
  {
   "cell_type": "code",
   "execution_count": 7,
   "metadata": {},
   "outputs": [
    {
     "data": {
      "text/html": [
       "<div>\n",
       "<style scoped>\n",
       "    .dataframe tbody tr th:only-of-type {\n",
       "        vertical-align: middle;\n",
       "    }\n",
       "\n",
       "    .dataframe tbody tr th {\n",
       "        vertical-align: top;\n",
       "    }\n",
       "\n",
       "    .dataframe thead th {\n",
       "        text-align: right;\n",
       "    }\n",
       "</style>\n",
       "<table border=\"1\" class=\"dataframe\">\n",
       "  <thead>\n",
       "    <tr style=\"text-align: right;\">\n",
       "      <th></th>\n",
       "      <th>Domain Code</th>\n",
       "      <th>Domain</th>\n",
       "      <th>Area Code (M49)</th>\n",
       "      <th>Area</th>\n",
       "      <th>Element Code</th>\n",
       "      <th>Element</th>\n",
       "      <th>Months Code</th>\n",
       "      <th>Months</th>\n",
       "      <th>Year Code</th>\n",
       "      <th>Year</th>\n",
       "      <th>Unit</th>\n",
       "      <th>Value</th>\n",
       "      <th>Flag</th>\n",
       "      <th>Flag Description</th>\n",
       "    </tr>\n",
       "  </thead>\n",
       "  <tbody>\n",
       "    <tr>\n",
       "      <th>0</th>\n",
       "      <td>ET</td>\n",
       "      <td>Temperature change on land</td>\n",
       "      <td>404</td>\n",
       "      <td>Kenya</td>\n",
       "      <td>7271</td>\n",
       "      <td>Temperature change</td>\n",
       "      <td>7001</td>\n",
       "      <td>January</td>\n",
       "      <td>2000</td>\n",
       "      <td>2000</td>\n",
       "      <td>°c</td>\n",
       "      <td>0.208</td>\n",
       "      <td>E</td>\n",
       "      <td>Estimated value</td>\n",
       "    </tr>\n",
       "    <tr>\n",
       "      <th>1</th>\n",
       "      <td>ET</td>\n",
       "      <td>Temperature change on land</td>\n",
       "      <td>404</td>\n",
       "      <td>Kenya</td>\n",
       "      <td>7271</td>\n",
       "      <td>Temperature change</td>\n",
       "      <td>7001</td>\n",
       "      <td>January</td>\n",
       "      <td>2001</td>\n",
       "      <td>2001</td>\n",
       "      <td>°c</td>\n",
       "      <td>0.476</td>\n",
       "      <td>E</td>\n",
       "      <td>Estimated value</td>\n",
       "    </tr>\n",
       "    <tr>\n",
       "      <th>2</th>\n",
       "      <td>ET</td>\n",
       "      <td>Temperature change on land</td>\n",
       "      <td>404</td>\n",
       "      <td>Kenya</td>\n",
       "      <td>7271</td>\n",
       "      <td>Temperature change</td>\n",
       "      <td>7001</td>\n",
       "      <td>January</td>\n",
       "      <td>2002</td>\n",
       "      <td>2002</td>\n",
       "      <td>°c</td>\n",
       "      <td>1.026</td>\n",
       "      <td>E</td>\n",
       "      <td>Estimated value</td>\n",
       "    </tr>\n",
       "    <tr>\n",
       "      <th>3</th>\n",
       "      <td>ET</td>\n",
       "      <td>Temperature change on land</td>\n",
       "      <td>404</td>\n",
       "      <td>Kenya</td>\n",
       "      <td>7271</td>\n",
       "      <td>Temperature change</td>\n",
       "      <td>7001</td>\n",
       "      <td>January</td>\n",
       "      <td>2003</td>\n",
       "      <td>2003</td>\n",
       "      <td>°c</td>\n",
       "      <td>0.797</td>\n",
       "      <td>E</td>\n",
       "      <td>Estimated value</td>\n",
       "    </tr>\n",
       "    <tr>\n",
       "      <th>4</th>\n",
       "      <td>ET</td>\n",
       "      <td>Temperature change on land</td>\n",
       "      <td>404</td>\n",
       "      <td>Kenya</td>\n",
       "      <td>7271</td>\n",
       "      <td>Temperature change</td>\n",
       "      <td>7001</td>\n",
       "      <td>January</td>\n",
       "      <td>2004</td>\n",
       "      <td>2004</td>\n",
       "      <td>°c</td>\n",
       "      <td>1.240</td>\n",
       "      <td>E</td>\n",
       "      <td>Estimated value</td>\n",
       "    </tr>\n",
       "  </tbody>\n",
       "</table>\n",
       "</div>"
      ],
      "text/plain": [
       "  Domain Code                      Domain  Area Code (M49)   Area  \\\n",
       "0          ET  Temperature change on land              404  Kenya   \n",
       "1          ET  Temperature change on land              404  Kenya   \n",
       "2          ET  Temperature change on land              404  Kenya   \n",
       "3          ET  Temperature change on land              404  Kenya   \n",
       "4          ET  Temperature change on land              404  Kenya   \n",
       "\n",
       "   Element Code             Element  Months Code   Months  Year Code  Year  \\\n",
       "0          7271  Temperature change         7001  January       2000  2000   \n",
       "1          7271  Temperature change         7001  January       2001  2001   \n",
       "2          7271  Temperature change         7001  January       2002  2002   \n",
       "3          7271  Temperature change         7001  January       2003  2003   \n",
       "4          7271  Temperature change         7001  January       2004  2004   \n",
       "\n",
       "  Unit  Value Flag Flag Description  \n",
       "0   °c  0.208    E  Estimated value  \n",
       "1   °c  0.476    E  Estimated value  \n",
       "2   °c  1.026    E  Estimated value  \n",
       "3   °c  0.797    E  Estimated value  \n",
       "4   °c  1.240    E  Estimated value  "
      ]
     },
     "execution_count": 7,
     "metadata": {},
     "output_type": "execute_result"
    }
   ],
   "source": [
    "tempreature_change = pd.read_csv('datasets/Temperature change on land.csv')\n",
    "tempreature_change.head()"
   ]
  },
  {
   "cell_type": "code",
   "execution_count": 8,
   "metadata": {},
   "outputs": [
    {
     "data": {
      "text/plain": [
       "(600, 14)"
      ]
     },
     "execution_count": 8,
     "metadata": {},
     "output_type": "execute_result"
    }
   ],
   "source": [
    "tempreature_change.shape"
   ]
  },
  {
   "cell_type": "code",
   "execution_count": 9,
   "metadata": {},
   "outputs": [
    {
     "data": {
      "text/html": [
       "<div>\n",
       "<style scoped>\n",
       "    .dataframe tbody tr th:only-of-type {\n",
       "        vertical-align: middle;\n",
       "    }\n",
       "\n",
       "    .dataframe tbody tr th {\n",
       "        vertical-align: top;\n",
       "    }\n",
       "\n",
       "    .dataframe thead th {\n",
       "        text-align: right;\n",
       "    }\n",
       "</style>\n",
       "<table border=\"1\" class=\"dataframe\">\n",
       "  <thead>\n",
       "    <tr style=\"text-align: right;\">\n",
       "      <th></th>\n",
       "      <th>Element</th>\n",
       "      <th>Months</th>\n",
       "      <th>Year</th>\n",
       "      <th>Unit</th>\n",
       "      <th>Value</th>\n",
       "    </tr>\n",
       "  </thead>\n",
       "  <tbody>\n",
       "    <tr>\n",
       "      <th>0</th>\n",
       "      <td>Temperature change</td>\n",
       "      <td>January</td>\n",
       "      <td>2000</td>\n",
       "      <td>°c</td>\n",
       "      <td>0.208</td>\n",
       "    </tr>\n",
       "    <tr>\n",
       "      <th>1</th>\n",
       "      <td>Temperature change</td>\n",
       "      <td>January</td>\n",
       "      <td>2001</td>\n",
       "      <td>°c</td>\n",
       "      <td>0.476</td>\n",
       "    </tr>\n",
       "    <tr>\n",
       "      <th>2</th>\n",
       "      <td>Temperature change</td>\n",
       "      <td>January</td>\n",
       "      <td>2002</td>\n",
       "      <td>°c</td>\n",
       "      <td>1.026</td>\n",
       "    </tr>\n",
       "    <tr>\n",
       "      <th>3</th>\n",
       "      <td>Temperature change</td>\n",
       "      <td>January</td>\n",
       "      <td>2003</td>\n",
       "      <td>°c</td>\n",
       "      <td>0.797</td>\n",
       "    </tr>\n",
       "    <tr>\n",
       "      <th>4</th>\n",
       "      <td>Temperature change</td>\n",
       "      <td>January</td>\n",
       "      <td>2004</td>\n",
       "      <td>°c</td>\n",
       "      <td>1.240</td>\n",
       "    </tr>\n",
       "  </tbody>\n",
       "</table>\n",
       "</div>"
      ],
      "text/plain": [
       "              Element   Months  Year Unit  Value\n",
       "0  Temperature change  January  2000   °c  0.208\n",
       "1  Temperature change  January  2001   °c  0.476\n",
       "2  Temperature change  January  2002   °c  1.026\n",
       "3  Temperature change  January  2003   °c  0.797\n",
       "4  Temperature change  January  2004   °c  1.240"
      ]
     },
     "execution_count": 9,
     "metadata": {},
     "output_type": "execute_result"
    }
   ],
   "source": [
    "tempreature_change = tempreature_change.drop(columns=[\"Domain Code\", \"Element Code\", \"Domain\", \"Area Code (M49)\", \"Area\", \"Months Code\", \"Year Code\", \"Flag\", \"Flag Description\"])\n",
    "tempreature_change.head()"
   ]
  },
  {
   "cell_type": "code",
   "execution_count": 10,
   "metadata": {},
   "outputs": [
    {
     "data": {
      "text/html": [
       "<div>\n",
       "<style scoped>\n",
       "    .dataframe tbody tr th:only-of-type {\n",
       "        vertical-align: middle;\n",
       "    }\n",
       "\n",
       "    .dataframe tbody tr th {\n",
       "        vertical-align: top;\n",
       "    }\n",
       "\n",
       "    .dataframe thead th {\n",
       "        text-align: right;\n",
       "    }\n",
       "</style>\n",
       "<table border=\"1\" class=\"dataframe\">\n",
       "  <thead>\n",
       "    <tr style=\"text-align: right;\">\n",
       "      <th></th>\n",
       "      <th>Year</th>\n",
       "      <th>Value</th>\n",
       "    </tr>\n",
       "  </thead>\n",
       "  <tbody>\n",
       "    <tr>\n",
       "      <th>count</th>\n",
       "      <td>600.000000</td>\n",
       "      <td>600.000000</td>\n",
       "    </tr>\n",
       "    <tr>\n",
       "      <th>mean</th>\n",
       "      <td>2012.000000</td>\n",
       "      <td>0.727012</td>\n",
       "    </tr>\n",
       "    <tr>\n",
       "      <th>std</th>\n",
       "      <td>7.217119</td>\n",
       "      <td>0.467588</td>\n",
       "    </tr>\n",
       "    <tr>\n",
       "      <th>min</th>\n",
       "      <td>2000.000000</td>\n",
       "      <td>-0.813000</td>\n",
       "    </tr>\n",
       "    <tr>\n",
       "      <th>25%</th>\n",
       "      <td>2006.000000</td>\n",
       "      <td>0.372000</td>\n",
       "    </tr>\n",
       "    <tr>\n",
       "      <th>50%</th>\n",
       "      <td>2012.000000</td>\n",
       "      <td>0.469000</td>\n",
       "    </tr>\n",
       "    <tr>\n",
       "      <th>75%</th>\n",
       "      <td>2018.000000</td>\n",
       "      <td>1.015250</td>\n",
       "    </tr>\n",
       "    <tr>\n",
       "      <th>max</th>\n",
       "      <td>2024.000000</td>\n",
       "      <td>2.915000</td>\n",
       "    </tr>\n",
       "  </tbody>\n",
       "</table>\n",
       "</div>"
      ],
      "text/plain": [
       "              Year       Value\n",
       "count   600.000000  600.000000\n",
       "mean   2012.000000    0.727012\n",
       "std       7.217119    0.467588\n",
       "min    2000.000000   -0.813000\n",
       "25%    2006.000000    0.372000\n",
       "50%    2012.000000    0.469000\n",
       "75%    2018.000000    1.015250\n",
       "max    2024.000000    2.915000"
      ]
     },
     "execution_count": 10,
     "metadata": {},
     "output_type": "execute_result"
    }
   ],
   "source": [
    "tempreature_change.describe()"
   ]
  },
  {
   "cell_type": "code",
   "execution_count": 11,
   "metadata": {},
   "outputs": [
    {
     "name": "stdout",
     "output_type": "stream",
     "text": [
      "<class 'pandas.core.frame.DataFrame'>\n",
      "RangeIndex: 600 entries, 0 to 599\n",
      "Data columns (total 5 columns):\n",
      " #   Column   Non-Null Count  Dtype  \n",
      "---  ------   --------------  -----  \n",
      " 0   Element  600 non-null    object \n",
      " 1   Months   600 non-null    object \n",
      " 2   Year     600 non-null    int64  \n",
      " 3   Unit     600 non-null    object \n",
      " 4   Value    600 non-null    float64\n",
      "dtypes: float64(1), int64(1), object(3)\n",
      "memory usage: 23.6+ KB\n"
     ]
    }
   ],
   "source": [
    "tempreature_change.info()"
   ]
  },
  {
   "cell_type": "code",
   "execution_count": 12,
   "metadata": {},
   "outputs": [
    {
     "data": {
      "text/plain": [
       "Element    0\n",
       "Months     0\n",
       "Year       0\n",
       "Unit       0\n",
       "Value      0\n",
       "dtype: int64"
      ]
     },
     "execution_count": 12,
     "metadata": {},
     "output_type": "execute_result"
    }
   ],
   "source": [
    "tempreature_change.isna().sum()"
   ]
  },
  {
   "cell_type": "code",
   "execution_count": null,
   "metadata": {},
   "outputs": [],
   "source": []
  },
  {
   "cell_type": "code",
   "execution_count": null,
   "metadata": {},
   "outputs": [],
   "source": []
  },
  {
   "cell_type": "code",
   "execution_count": null,
   "metadata": {},
   "outputs": [],
   "source": []
  },
  {
   "cell_type": "markdown",
   "metadata": {},
   "source": [
    "#### Crops and livestock products:"
   ]
  },
  {
   "cell_type": "code",
   "execution_count": 13,
   "metadata": {},
   "outputs": [
    {
     "data": {
      "text/html": [
       "<div>\n",
       "<style scoped>\n",
       "    .dataframe tbody tr th:only-of-type {\n",
       "        vertical-align: middle;\n",
       "    }\n",
       "\n",
       "    .dataframe tbody tr th {\n",
       "        vertical-align: top;\n",
       "    }\n",
       "\n",
       "    .dataframe thead th {\n",
       "        text-align: right;\n",
       "    }\n",
       "</style>\n",
       "<table border=\"1\" class=\"dataframe\">\n",
       "  <thead>\n",
       "    <tr style=\"text-align: right;\">\n",
       "      <th></th>\n",
       "      <th>Domain Code</th>\n",
       "      <th>Domain</th>\n",
       "      <th>Area Code (M49)</th>\n",
       "      <th>Area</th>\n",
       "      <th>Element Code</th>\n",
       "      <th>Element</th>\n",
       "      <th>Item Code (CPC)</th>\n",
       "      <th>Item</th>\n",
       "      <th>Year Code</th>\n",
       "      <th>Year</th>\n",
       "      <th>Unit</th>\n",
       "      <th>Value</th>\n",
       "      <th>Flag</th>\n",
       "      <th>Flag Description</th>\n",
       "      <th>Note</th>\n",
       "    </tr>\n",
       "  </thead>\n",
       "  <tbody>\n",
       "    <tr>\n",
       "      <th>0</th>\n",
       "      <td>QCL</td>\n",
       "      <td>Crops and livestock products</td>\n",
       "      <td>404</td>\n",
       "      <td>Kenya</td>\n",
       "      <td>5312</td>\n",
       "      <td>Area harvested</td>\n",
       "      <td>1929.07</td>\n",
       "      <td>Abaca, manila hemp, raw</td>\n",
       "      <td>2000</td>\n",
       "      <td>2000</td>\n",
       "      <td>ha</td>\n",
       "      <td>26.0</td>\n",
       "      <td>E</td>\n",
       "      <td>Estimated value</td>\n",
       "      <td>NaN</td>\n",
       "    </tr>\n",
       "    <tr>\n",
       "      <th>1</th>\n",
       "      <td>QCL</td>\n",
       "      <td>Crops and livestock products</td>\n",
       "      <td>404</td>\n",
       "      <td>Kenya</td>\n",
       "      <td>5412</td>\n",
       "      <td>Yield</td>\n",
       "      <td>1929.07</td>\n",
       "      <td>Abaca, manila hemp, raw</td>\n",
       "      <td>2000</td>\n",
       "      <td>2000</td>\n",
       "      <td>kg/ha</td>\n",
       "      <td>1153.8</td>\n",
       "      <td>E</td>\n",
       "      <td>Estimated value</td>\n",
       "      <td>NaN</td>\n",
       "    </tr>\n",
       "    <tr>\n",
       "      <th>2</th>\n",
       "      <td>QCL</td>\n",
       "      <td>Crops and livestock products</td>\n",
       "      <td>404</td>\n",
       "      <td>Kenya</td>\n",
       "      <td>5510</td>\n",
       "      <td>Production</td>\n",
       "      <td>1929.07</td>\n",
       "      <td>Abaca, manila hemp, raw</td>\n",
       "      <td>2000</td>\n",
       "      <td>2000</td>\n",
       "      <td>t</td>\n",
       "      <td>30.0</td>\n",
       "      <td>E</td>\n",
       "      <td>Estimated value</td>\n",
       "      <td>NaN</td>\n",
       "    </tr>\n",
       "    <tr>\n",
       "      <th>3</th>\n",
       "      <td>QCL</td>\n",
       "      <td>Crops and livestock products</td>\n",
       "      <td>404</td>\n",
       "      <td>Kenya</td>\n",
       "      <td>5312</td>\n",
       "      <td>Area harvested</td>\n",
       "      <td>1929.07</td>\n",
       "      <td>Abaca, manila hemp, raw</td>\n",
       "      <td>2001</td>\n",
       "      <td>2001</td>\n",
       "      <td>ha</td>\n",
       "      <td>29.0</td>\n",
       "      <td>E</td>\n",
       "      <td>Estimated value</td>\n",
       "      <td>NaN</td>\n",
       "    </tr>\n",
       "    <tr>\n",
       "      <th>4</th>\n",
       "      <td>QCL</td>\n",
       "      <td>Crops and livestock products</td>\n",
       "      <td>404</td>\n",
       "      <td>Kenya</td>\n",
       "      <td>5412</td>\n",
       "      <td>Yield</td>\n",
       "      <td>1929.07</td>\n",
       "      <td>Abaca, manila hemp, raw</td>\n",
       "      <td>2001</td>\n",
       "      <td>2001</td>\n",
       "      <td>kg/ha</td>\n",
       "      <td>1156.6</td>\n",
       "      <td>E</td>\n",
       "      <td>Estimated value</td>\n",
       "      <td>NaN</td>\n",
       "    </tr>\n",
       "  </tbody>\n",
       "</table>\n",
       "</div>"
      ],
      "text/plain": [
       "  Domain Code                        Domain  Area Code (M49)   Area  \\\n",
       "0         QCL  Crops and livestock products              404  Kenya   \n",
       "1         QCL  Crops and livestock products              404  Kenya   \n",
       "2         QCL  Crops and livestock products              404  Kenya   \n",
       "3         QCL  Crops and livestock products              404  Kenya   \n",
       "4         QCL  Crops and livestock products              404  Kenya   \n",
       "\n",
       "   Element Code         Element  Item Code (CPC)                     Item  \\\n",
       "0          5312  Area harvested          1929.07  Abaca, manila hemp, raw   \n",
       "1          5412           Yield          1929.07  Abaca, manila hemp, raw   \n",
       "2          5510      Production          1929.07  Abaca, manila hemp, raw   \n",
       "3          5312  Area harvested          1929.07  Abaca, manila hemp, raw   \n",
       "4          5412           Yield          1929.07  Abaca, manila hemp, raw   \n",
       "\n",
       "   Year Code  Year   Unit   Value Flag Flag Description Note  \n",
       "0       2000  2000     ha    26.0    E  Estimated value  NaN  \n",
       "1       2000  2000  kg/ha  1153.8    E  Estimated value  NaN  \n",
       "2       2000  2000      t    30.0    E  Estimated value  NaN  \n",
       "3       2001  2001     ha    29.0    E  Estimated value  NaN  \n",
       "4       2001  2001  kg/ha  1156.6    E  Estimated value  NaN  "
      ]
     },
     "execution_count": 13,
     "metadata": {},
     "output_type": "execute_result"
    }
   ],
   "source": [
    "products = pd.read_csv('datasets/Crops and livestock products.csv')\n",
    "products.head()"
   ]
  },
  {
   "cell_type": "code",
   "execution_count": 14,
   "metadata": {},
   "outputs": [
    {
     "data": {
      "text/plain": [
       "(6126, 15)"
      ]
     },
     "execution_count": 14,
     "metadata": {},
     "output_type": "execute_result"
    }
   ],
   "source": [
    "products.shape"
   ]
  },
  {
   "cell_type": "code",
   "execution_count": 15,
   "metadata": {},
   "outputs": [
    {
     "data": {
      "text/plain": [
       "Domain Code            0\n",
       "Domain                 0\n",
       "Area Code (M49)        0\n",
       "Area                   0\n",
       "Element Code           0\n",
       "Element                0\n",
       "Item Code (CPC)        0\n",
       "Item                   0\n",
       "Year Code              0\n",
       "Year                   0\n",
       "Unit                   0\n",
       "Value                 78\n",
       "Flag                   0\n",
       "Flag Description       0\n",
       "Note                6029\n",
       "dtype: int64"
      ]
     },
     "execution_count": 15,
     "metadata": {},
     "output_type": "execute_result"
    }
   ],
   "source": [
    "products.isna().sum()"
   ]
  },
  {
   "cell_type": "code",
   "execution_count": 16,
   "metadata": {},
   "outputs": [
    {
     "data": {
      "text/html": [
       "<div>\n",
       "<style scoped>\n",
       "    .dataframe tbody tr th:only-of-type {\n",
       "        vertical-align: middle;\n",
       "    }\n",
       "\n",
       "    .dataframe tbody tr th {\n",
       "        vertical-align: top;\n",
       "    }\n",
       "\n",
       "    .dataframe thead th {\n",
       "        text-align: right;\n",
       "    }\n",
       "</style>\n",
       "<table border=\"1\" class=\"dataframe\">\n",
       "  <thead>\n",
       "    <tr style=\"text-align: right;\">\n",
       "      <th></th>\n",
       "      <th>Domain</th>\n",
       "      <th>Element</th>\n",
       "      <th>Item</th>\n",
       "      <th>Year</th>\n",
       "      <th>Unit</th>\n",
       "      <th>Value</th>\n",
       "    </tr>\n",
       "  </thead>\n",
       "  <tbody>\n",
       "    <tr>\n",
       "      <th>0</th>\n",
       "      <td>Crops and livestock products</td>\n",
       "      <td>Area harvested</td>\n",
       "      <td>Abaca, manila hemp, raw</td>\n",
       "      <td>2000</td>\n",
       "      <td>ha</td>\n",
       "      <td>26.0</td>\n",
       "    </tr>\n",
       "    <tr>\n",
       "      <th>1</th>\n",
       "      <td>Crops and livestock products</td>\n",
       "      <td>Yield</td>\n",
       "      <td>Abaca, manila hemp, raw</td>\n",
       "      <td>2000</td>\n",
       "      <td>kg/ha</td>\n",
       "      <td>1153.8</td>\n",
       "    </tr>\n",
       "    <tr>\n",
       "      <th>2</th>\n",
       "      <td>Crops and livestock products</td>\n",
       "      <td>Production</td>\n",
       "      <td>Abaca, manila hemp, raw</td>\n",
       "      <td>2000</td>\n",
       "      <td>t</td>\n",
       "      <td>30.0</td>\n",
       "    </tr>\n",
       "    <tr>\n",
       "      <th>3</th>\n",
       "      <td>Crops and livestock products</td>\n",
       "      <td>Area harvested</td>\n",
       "      <td>Abaca, manila hemp, raw</td>\n",
       "      <td>2001</td>\n",
       "      <td>ha</td>\n",
       "      <td>29.0</td>\n",
       "    </tr>\n",
       "    <tr>\n",
       "      <th>4</th>\n",
       "      <td>Crops and livestock products</td>\n",
       "      <td>Yield</td>\n",
       "      <td>Abaca, manila hemp, raw</td>\n",
       "      <td>2001</td>\n",
       "      <td>kg/ha</td>\n",
       "      <td>1156.6</td>\n",
       "    </tr>\n",
       "  </tbody>\n",
       "</table>\n",
       "</div>"
      ],
      "text/plain": [
       "                         Domain         Element                     Item  \\\n",
       "0  Crops and livestock products  Area harvested  Abaca, manila hemp, raw   \n",
       "1  Crops and livestock products           Yield  Abaca, manila hemp, raw   \n",
       "2  Crops and livestock products      Production  Abaca, manila hemp, raw   \n",
       "3  Crops and livestock products  Area harvested  Abaca, manila hemp, raw   \n",
       "4  Crops and livestock products           Yield  Abaca, manila hemp, raw   \n",
       "\n",
       "   Year   Unit   Value  \n",
       "0  2000     ha    26.0  \n",
       "1  2000  kg/ha  1153.8  \n",
       "2  2000      t    30.0  \n",
       "3  2001     ha    29.0  \n",
       "4  2001  kg/ha  1156.6  "
      ]
     },
     "execution_count": 16,
     "metadata": {},
     "output_type": "execute_result"
    }
   ],
   "source": [
    "products = products.drop(columns=[\"Domain Code\", \"Area Code (M49)\", \"Area\", \"Element Code\", \"Item Code (CPC)\",  \"Year Code\", \"Flag\", \"Flag Description\", \"Note\"])\n",
    "products.head()"
   ]
  },
  {
   "cell_type": "code",
   "execution_count": 17,
   "metadata": {},
   "outputs": [
    {
     "data": {
      "text/plain": [
       "Domain      0\n",
       "Element     0\n",
       "Item        0\n",
       "Year        0\n",
       "Unit        0\n",
       "Value      78\n",
       "dtype: int64"
      ]
     },
     "execution_count": 17,
     "metadata": {},
     "output_type": "execute_result"
    }
   ],
   "source": [
    "products.isna().sum()"
   ]
  },
  {
   "cell_type": "code",
   "execution_count": 18,
   "metadata": {},
   "outputs": [
    {
     "data": {
      "text/html": [
       "<div>\n",
       "<style scoped>\n",
       "    .dataframe tbody tr th:only-of-type {\n",
       "        vertical-align: middle;\n",
       "    }\n",
       "\n",
       "    .dataframe tbody tr th {\n",
       "        vertical-align: top;\n",
       "    }\n",
       "\n",
       "    .dataframe thead th {\n",
       "        text-align: right;\n",
       "    }\n",
       "</style>\n",
       "<table border=\"1\" class=\"dataframe\">\n",
       "  <thead>\n",
       "    <tr style=\"text-align: right;\">\n",
       "      <th></th>\n",
       "      <th>Domain</th>\n",
       "      <th>Element</th>\n",
       "      <th>Item</th>\n",
       "      <th>Year</th>\n",
       "      <th>Unit</th>\n",
       "      <th>Value</th>\n",
       "    </tr>\n",
       "  </thead>\n",
       "  <tbody>\n",
       "    <tr>\n",
       "      <th>0</th>\n",
       "      <td>Crops and livestock products</td>\n",
       "      <td>Area harvested</td>\n",
       "      <td>Abaca, manila hemp, raw</td>\n",
       "      <td>2000</td>\n",
       "      <td>ha</td>\n",
       "      <td>26.0</td>\n",
       "    </tr>\n",
       "    <tr>\n",
       "      <th>1</th>\n",
       "      <td>Crops and livestock products</td>\n",
       "      <td>Yield</td>\n",
       "      <td>Abaca, manila hemp, raw</td>\n",
       "      <td>2000</td>\n",
       "      <td>kg/ha</td>\n",
       "      <td>1153.8</td>\n",
       "    </tr>\n",
       "    <tr>\n",
       "      <th>2</th>\n",
       "      <td>Crops and livestock products</td>\n",
       "      <td>Production</td>\n",
       "      <td>Abaca, manila hemp, raw</td>\n",
       "      <td>2000</td>\n",
       "      <td>t</td>\n",
       "      <td>30.0</td>\n",
       "    </tr>\n",
       "    <tr>\n",
       "      <th>3</th>\n",
       "      <td>Crops and livestock products</td>\n",
       "      <td>Area harvested</td>\n",
       "      <td>Abaca, manila hemp, raw</td>\n",
       "      <td>2001</td>\n",
       "      <td>ha</td>\n",
       "      <td>29.0</td>\n",
       "    </tr>\n",
       "    <tr>\n",
       "      <th>4</th>\n",
       "      <td>Crops and livestock products</td>\n",
       "      <td>Yield</td>\n",
       "      <td>Abaca, manila hemp, raw</td>\n",
       "      <td>2001</td>\n",
       "      <td>kg/ha</td>\n",
       "      <td>1156.6</td>\n",
       "    </tr>\n",
       "  </tbody>\n",
       "</table>\n",
       "</div>"
      ],
      "text/plain": [
       "                         Domain         Element                     Item  \\\n",
       "0  Crops and livestock products  Area harvested  Abaca, manila hemp, raw   \n",
       "1  Crops and livestock products           Yield  Abaca, manila hemp, raw   \n",
       "2  Crops and livestock products      Production  Abaca, manila hemp, raw   \n",
       "3  Crops and livestock products  Area harvested  Abaca, manila hemp, raw   \n",
       "4  Crops and livestock products           Yield  Abaca, manila hemp, raw   \n",
       "\n",
       "   Year   Unit   Value  \n",
       "0  2000     ha    26.0  \n",
       "1  2000  kg/ha  1153.8  \n",
       "2  2000      t    30.0  \n",
       "3  2001     ha    29.0  \n",
       "4  2001  kg/ha  1156.6  "
      ]
     },
     "execution_count": 18,
     "metadata": {},
     "output_type": "execute_result"
    }
   ],
   "source": [
    "products = products.fillna(0)\n",
    "products.head()"
   ]
  },
  {
   "cell_type": "code",
   "execution_count": 19,
   "metadata": {},
   "outputs": [
    {
     "data": {
      "text/plain": [
       "Domain     0\n",
       "Element    0\n",
       "Item       0\n",
       "Year       0\n",
       "Unit       0\n",
       "Value      0\n",
       "dtype: int64"
      ]
     },
     "execution_count": 19,
     "metadata": {},
     "output_type": "execute_result"
    }
   ],
   "source": [
    "products.isna().sum()"
   ]
  },
  {
   "cell_type": "code",
   "execution_count": 20,
   "metadata": {},
   "outputs": [
    {
     "data": {
      "text/html": [
       "<div>\n",
       "<style scoped>\n",
       "    .dataframe tbody tr th:only-of-type {\n",
       "        vertical-align: middle;\n",
       "    }\n",
       "\n",
       "    .dataframe tbody tr th {\n",
       "        vertical-align: top;\n",
       "    }\n",
       "\n",
       "    .dataframe thead th {\n",
       "        text-align: right;\n",
       "    }\n",
       "</style>\n",
       "<table border=\"1\" class=\"dataframe\">\n",
       "  <thead>\n",
       "    <tr style=\"text-align: right;\">\n",
       "      <th></th>\n",
       "      <th>Year</th>\n",
       "      <th>Value</th>\n",
       "    </tr>\n",
       "  </thead>\n",
       "  <tbody>\n",
       "    <tr>\n",
       "      <th>count</th>\n",
       "      <td>6126.000000</td>\n",
       "      <td>6.126000e+03</td>\n",
       "    </tr>\n",
       "    <tr>\n",
       "      <th>mean</th>\n",
       "      <td>2011.520568</td>\n",
       "      <td>1.067654e+05</td>\n",
       "    </tr>\n",
       "    <tr>\n",
       "      <th>std</th>\n",
       "      <td>6.927177</td>\n",
       "      <td>4.808814e+05</td>\n",
       "    </tr>\n",
       "    <tr>\n",
       "      <th>min</th>\n",
       "      <td>2000.000000</td>\n",
       "      <td>0.000000e+00</td>\n",
       "    </tr>\n",
       "    <tr>\n",
       "      <th>25%</th>\n",
       "      <td>2006.000000</td>\n",
       "      <td>9.393850e+02</td>\n",
       "    </tr>\n",
       "    <tr>\n",
       "      <th>50%</th>\n",
       "      <td>2012.000000</td>\n",
       "      <td>6.306750e+03</td>\n",
       "    </tr>\n",
       "    <tr>\n",
       "      <th>75%</th>\n",
       "      <td>2018.000000</td>\n",
       "      <td>2.491375e+04</td>\n",
       "    </tr>\n",
       "    <tr>\n",
       "      <th>max</th>\n",
       "      <td>2023.000000</td>\n",
       "      <td>8.799800e+06</td>\n",
       "    </tr>\n",
       "  </tbody>\n",
       "</table>\n",
       "</div>"
      ],
      "text/plain": [
       "              Year         Value\n",
       "count  6126.000000  6.126000e+03\n",
       "mean   2011.520568  1.067654e+05\n",
       "std       6.927177  4.808814e+05\n",
       "min    2000.000000  0.000000e+00\n",
       "25%    2006.000000  9.393850e+02\n",
       "50%    2012.000000  6.306750e+03\n",
       "75%    2018.000000  2.491375e+04\n",
       "max    2023.000000  8.799800e+06"
      ]
     },
     "execution_count": 20,
     "metadata": {},
     "output_type": "execute_result"
    }
   ],
   "source": [
    "products.describe()"
   ]
  },
  {
   "cell_type": "code",
   "execution_count": 21,
   "metadata": {},
   "outputs": [
    {
     "name": "stdout",
     "output_type": "stream",
     "text": [
      "<class 'pandas.core.frame.DataFrame'>\n",
      "RangeIndex: 6126 entries, 0 to 6125\n",
      "Data columns (total 6 columns):\n",
      " #   Column   Non-Null Count  Dtype  \n",
      "---  ------   --------------  -----  \n",
      " 0   Domain   6126 non-null   object \n",
      " 1   Element  6126 non-null   object \n",
      " 2   Item     6126 non-null   object \n",
      " 3   Year     6126 non-null   int64  \n",
      " 4   Unit     6126 non-null   object \n",
      " 5   Value    6126 non-null   float64\n",
      "dtypes: float64(1), int64(1), object(4)\n",
      "memory usage: 287.3+ KB\n"
     ]
    }
   ],
   "source": [
    "products.info()"
   ]
  },
  {
   "cell_type": "markdown",
   "metadata": {},
   "source": [
    "#### Cropland Nutrient Balance:"
   ]
  },
  {
   "cell_type": "code",
   "execution_count": 22,
   "metadata": {},
   "outputs": [
    {
     "data": {
      "text/html": [
       "<div>\n",
       "<style scoped>\n",
       "    .dataframe tbody tr th:only-of-type {\n",
       "        vertical-align: middle;\n",
       "    }\n",
       "\n",
       "    .dataframe tbody tr th {\n",
       "        vertical-align: top;\n",
       "    }\n",
       "\n",
       "    .dataframe thead th {\n",
       "        text-align: right;\n",
       "    }\n",
       "</style>\n",
       "<table border=\"1\" class=\"dataframe\">\n",
       "  <thead>\n",
       "    <tr style=\"text-align: right;\">\n",
       "      <th></th>\n",
       "      <th>Domain Code</th>\n",
       "      <th>Domain</th>\n",
       "      <th>Area Code (M49)</th>\n",
       "      <th>Area</th>\n",
       "      <th>Element Code</th>\n",
       "      <th>Element</th>\n",
       "      <th>Item Code</th>\n",
       "      <th>Item</th>\n",
       "      <th>Year Code</th>\n",
       "      <th>Year</th>\n",
       "      <th>Unit</th>\n",
       "      <th>Value</th>\n",
       "      <th>Flag</th>\n",
       "      <th>Flag Description</th>\n",
       "      <th>Note</th>\n",
       "    </tr>\n",
       "  </thead>\n",
       "  <tbody>\n",
       "    <tr>\n",
       "      <th>0</th>\n",
       "      <td>ESB</td>\n",
       "      <td>Cropland Nutrient Balance</td>\n",
       "      <td>404</td>\n",
       "      <td>Kenya</td>\n",
       "      <td>7276</td>\n",
       "      <td>Cropland nitrogen per unit area</td>\n",
       "      <td>5079</td>\n",
       "      <td>Input</td>\n",
       "      <td>2000</td>\n",
       "      <td>2000</td>\n",
       "      <td>kg/ha</td>\n",
       "      <td>34.0132</td>\n",
       "      <td>E</td>\n",
       "      <td>Estimated value</td>\n",
       "      <td>NaN</td>\n",
       "    </tr>\n",
       "    <tr>\n",
       "      <th>1</th>\n",
       "      <td>ESB</td>\n",
       "      <td>Cropland Nutrient Balance</td>\n",
       "      <td>404</td>\n",
       "      <td>Kenya</td>\n",
       "      <td>7281</td>\n",
       "      <td>Cropland phosphorus per unit area</td>\n",
       "      <td>5079</td>\n",
       "      <td>Input</td>\n",
       "      <td>2000</td>\n",
       "      <td>2000</td>\n",
       "      <td>kg/ha</td>\n",
       "      <td>7.1153</td>\n",
       "      <td>E</td>\n",
       "      <td>Estimated value</td>\n",
       "      <td>NaN</td>\n",
       "    </tr>\n",
       "    <tr>\n",
       "      <th>2</th>\n",
       "      <td>ESB</td>\n",
       "      <td>Cropland Nutrient Balance</td>\n",
       "      <td>404</td>\n",
       "      <td>Kenya</td>\n",
       "      <td>7283</td>\n",
       "      <td>Cropland potassium per unit area</td>\n",
       "      <td>5079</td>\n",
       "      <td>Input</td>\n",
       "      <td>2000</td>\n",
       "      <td>2000</td>\n",
       "      <td>kg/ha</td>\n",
       "      <td>9.1238</td>\n",
       "      <td>E</td>\n",
       "      <td>Estimated value</td>\n",
       "      <td>NaN</td>\n",
       "    </tr>\n",
       "    <tr>\n",
       "      <th>3</th>\n",
       "      <td>ESB</td>\n",
       "      <td>Cropland Nutrient Balance</td>\n",
       "      <td>404</td>\n",
       "      <td>Kenya</td>\n",
       "      <td>7276</td>\n",
       "      <td>Cropland nitrogen per unit area</td>\n",
       "      <td>5079</td>\n",
       "      <td>Input</td>\n",
       "      <td>2001</td>\n",
       "      <td>2001</td>\n",
       "      <td>kg/ha</td>\n",
       "      <td>34.5876</td>\n",
       "      <td>E</td>\n",
       "      <td>Estimated value</td>\n",
       "      <td>NaN</td>\n",
       "    </tr>\n",
       "    <tr>\n",
       "      <th>4</th>\n",
       "      <td>ESB</td>\n",
       "      <td>Cropland Nutrient Balance</td>\n",
       "      <td>404</td>\n",
       "      <td>Kenya</td>\n",
       "      <td>7281</td>\n",
       "      <td>Cropland phosphorus per unit area</td>\n",
       "      <td>5079</td>\n",
       "      <td>Input</td>\n",
       "      <td>2001</td>\n",
       "      <td>2001</td>\n",
       "      <td>kg/ha</td>\n",
       "      <td>6.6819</td>\n",
       "      <td>E</td>\n",
       "      <td>Estimated value</td>\n",
       "      <td>NaN</td>\n",
       "    </tr>\n",
       "  </tbody>\n",
       "</table>\n",
       "</div>"
      ],
      "text/plain": [
       "  Domain Code                     Domain  Area Code (M49)   Area  \\\n",
       "0         ESB  Cropland Nutrient Balance              404  Kenya   \n",
       "1         ESB  Cropland Nutrient Balance              404  Kenya   \n",
       "2         ESB  Cropland Nutrient Balance              404  Kenya   \n",
       "3         ESB  Cropland Nutrient Balance              404  Kenya   \n",
       "4         ESB  Cropland Nutrient Balance              404  Kenya   \n",
       "\n",
       "   Element Code                            Element  Item Code   Item  \\\n",
       "0          7276    Cropland nitrogen per unit area       5079  Input   \n",
       "1          7281  Cropland phosphorus per unit area       5079  Input   \n",
       "2          7283   Cropland potassium per unit area       5079  Input   \n",
       "3          7276    Cropland nitrogen per unit area       5079  Input   \n",
       "4          7281  Cropland phosphorus per unit area       5079  Input   \n",
       "\n",
       "   Year Code  Year   Unit    Value Flag Flag Description  Note  \n",
       "0       2000  2000  kg/ha  34.0132    E  Estimated value   NaN  \n",
       "1       2000  2000  kg/ha   7.1153    E  Estimated value   NaN  \n",
       "2       2000  2000  kg/ha   9.1238    E  Estimated value   NaN  \n",
       "3       2001  2001  kg/ha  34.5876    E  Estimated value   NaN  \n",
       "4       2001  2001  kg/ha   6.6819    E  Estimated value   NaN  "
      ]
     },
     "execution_count": 22,
     "metadata": {},
     "output_type": "execute_result"
    }
   ],
   "source": [
    "land_nutrients = pd.read_csv('datasets/Cropland Nutrient Balance.csv')\n",
    "land_nutrients.head()"
   ]
  },
  {
   "cell_type": "code",
   "execution_count": 23,
   "metadata": {},
   "outputs": [
    {
     "data": {
      "text/plain": [
       "Domain Code           0\n",
       "Domain                0\n",
       "Area Code (M49)       0\n",
       "Area                  0\n",
       "Element Code          0\n",
       "Element               0\n",
       "Item Code             0\n",
       "Item                  0\n",
       "Year Code             0\n",
       "Year                  0\n",
       "Unit                  0\n",
       "Value                 0\n",
       "Flag                  0\n",
       "Flag Description      0\n",
       "Note                138\n",
       "dtype: int64"
      ]
     },
     "execution_count": 23,
     "metadata": {},
     "output_type": "execute_result"
    }
   ],
   "source": [
    "land_nutrients.isna().sum()"
   ]
  },
  {
   "cell_type": "code",
   "execution_count": 24,
   "metadata": {},
   "outputs": [
    {
     "data": {
      "text/html": [
       "<div>\n",
       "<style scoped>\n",
       "    .dataframe tbody tr th:only-of-type {\n",
       "        vertical-align: middle;\n",
       "    }\n",
       "\n",
       "    .dataframe tbody tr th {\n",
       "        vertical-align: top;\n",
       "    }\n",
       "\n",
       "    .dataframe thead th {\n",
       "        text-align: right;\n",
       "    }\n",
       "</style>\n",
       "<table border=\"1\" class=\"dataframe\">\n",
       "  <thead>\n",
       "    <tr style=\"text-align: right;\">\n",
       "      <th></th>\n",
       "      <th>Domain</th>\n",
       "      <th>Element</th>\n",
       "      <th>Item</th>\n",
       "      <th>Year</th>\n",
       "      <th>Unit</th>\n",
       "      <th>Value</th>\n",
       "    </tr>\n",
       "  </thead>\n",
       "  <tbody>\n",
       "    <tr>\n",
       "      <th>0</th>\n",
       "      <td>Cropland Nutrient Balance</td>\n",
       "      <td>Cropland nitrogen per unit area</td>\n",
       "      <td>Input</td>\n",
       "      <td>2000</td>\n",
       "      <td>kg/ha</td>\n",
       "      <td>34.0132</td>\n",
       "    </tr>\n",
       "    <tr>\n",
       "      <th>1</th>\n",
       "      <td>Cropland Nutrient Balance</td>\n",
       "      <td>Cropland phosphorus per unit area</td>\n",
       "      <td>Input</td>\n",
       "      <td>2000</td>\n",
       "      <td>kg/ha</td>\n",
       "      <td>7.1153</td>\n",
       "    </tr>\n",
       "    <tr>\n",
       "      <th>2</th>\n",
       "      <td>Cropland Nutrient Balance</td>\n",
       "      <td>Cropland potassium per unit area</td>\n",
       "      <td>Input</td>\n",
       "      <td>2000</td>\n",
       "      <td>kg/ha</td>\n",
       "      <td>9.1238</td>\n",
       "    </tr>\n",
       "    <tr>\n",
       "      <th>3</th>\n",
       "      <td>Cropland Nutrient Balance</td>\n",
       "      <td>Cropland nitrogen per unit area</td>\n",
       "      <td>Input</td>\n",
       "      <td>2001</td>\n",
       "      <td>kg/ha</td>\n",
       "      <td>34.5876</td>\n",
       "    </tr>\n",
       "    <tr>\n",
       "      <th>4</th>\n",
       "      <td>Cropland Nutrient Balance</td>\n",
       "      <td>Cropland phosphorus per unit area</td>\n",
       "      <td>Input</td>\n",
       "      <td>2001</td>\n",
       "      <td>kg/ha</td>\n",
       "      <td>6.6819</td>\n",
       "    </tr>\n",
       "  </tbody>\n",
       "</table>\n",
       "</div>"
      ],
      "text/plain": [
       "                      Domain                            Element   Item  Year  \\\n",
       "0  Cropland Nutrient Balance    Cropland nitrogen per unit area  Input  2000   \n",
       "1  Cropland Nutrient Balance  Cropland phosphorus per unit area  Input  2000   \n",
       "2  Cropland Nutrient Balance   Cropland potassium per unit area  Input  2000   \n",
       "3  Cropland Nutrient Balance    Cropland nitrogen per unit area  Input  2001   \n",
       "4  Cropland Nutrient Balance  Cropland phosphorus per unit area  Input  2001   \n",
       "\n",
       "    Unit    Value  \n",
       "0  kg/ha  34.0132  \n",
       "1  kg/ha   7.1153  \n",
       "2  kg/ha   9.1238  \n",
       "3  kg/ha  34.5876  \n",
       "4  kg/ha   6.6819  "
      ]
     },
     "execution_count": 24,
     "metadata": {},
     "output_type": "execute_result"
    }
   ],
   "source": [
    "land_nutrients = land_nutrients.drop(columns=[\"Domain Code\", \"Area Code (M49)\", \"Area\", \"Element Code\", \"Item Code\", \"Year Code\",\"Flag\", \"Flag Description\", \"Note\"])\n",
    "land_nutrients.head()"
   ]
  },
  {
   "cell_type": "code",
   "execution_count": 25,
   "metadata": {},
   "outputs": [
    {
     "data": {
      "text/plain": [
       "Input      69\n",
       "Outputs    69\n",
       "Name: Item, dtype: int64"
      ]
     },
     "execution_count": 25,
     "metadata": {},
     "output_type": "execute_result"
    }
   ],
   "source": [
    "land_nutrients[\"Item\"].value_counts()"
   ]
  },
  {
   "cell_type": "code",
   "execution_count": null,
   "metadata": {},
   "outputs": [],
   "source": []
  },
  {
   "cell_type": "code",
   "execution_count": null,
   "metadata": {},
   "outputs": [],
   "source": []
  },
  {
   "cell_type": "code",
   "execution_count": null,
   "metadata": {},
   "outputs": [],
   "source": []
  },
  {
   "cell_type": "code",
   "execution_count": null,
   "metadata": {},
   "outputs": [],
   "source": []
  },
  {
   "cell_type": "code",
   "execution_count": null,
   "metadata": {},
   "outputs": [],
   "source": []
  },
  {
   "cell_type": "markdown",
   "metadata": {},
   "source": [
    "#### Land Use:"
   ]
  },
  {
   "cell_type": "code",
   "execution_count": 26,
   "metadata": {},
   "outputs": [
    {
     "data": {
      "text/html": [
       "<div>\n",
       "<style scoped>\n",
       "    .dataframe tbody tr th:only-of-type {\n",
       "        vertical-align: middle;\n",
       "    }\n",
       "\n",
       "    .dataframe tbody tr th {\n",
       "        vertical-align: top;\n",
       "    }\n",
       "\n",
       "    .dataframe thead th {\n",
       "        text-align: right;\n",
       "    }\n",
       "</style>\n",
       "<table border=\"1\" class=\"dataframe\">\n",
       "  <thead>\n",
       "    <tr style=\"text-align: right;\">\n",
       "      <th></th>\n",
       "      <th>Domain Code</th>\n",
       "      <th>Domain</th>\n",
       "      <th>Area Code (M49)</th>\n",
       "      <th>Area</th>\n",
       "      <th>Element Code</th>\n",
       "      <th>Element</th>\n",
       "      <th>Item Code</th>\n",
       "      <th>Item</th>\n",
       "      <th>Year Code</th>\n",
       "      <th>Year</th>\n",
       "      <th>Unit</th>\n",
       "      <th>Value</th>\n",
       "      <th>Flag</th>\n",
       "      <th>Flag Description</th>\n",
       "      <th>Note</th>\n",
       "    </tr>\n",
       "  </thead>\n",
       "  <tbody>\n",
       "    <tr>\n",
       "      <th>0</th>\n",
       "      <td>RL</td>\n",
       "      <td>Land Use</td>\n",
       "      <td>404</td>\n",
       "      <td>Kenya</td>\n",
       "      <td>5110</td>\n",
       "      <td>Area</td>\n",
       "      <td>6600</td>\n",
       "      <td>Country area</td>\n",
       "      <td>2000</td>\n",
       "      <td>2000</td>\n",
       "      <td>1000 ha</td>\n",
       "      <td>58037.0</td>\n",
       "      <td>A</td>\n",
       "      <td>Official figure</td>\n",
       "      <td>NaN</td>\n",
       "    </tr>\n",
       "    <tr>\n",
       "      <th>1</th>\n",
       "      <td>RL</td>\n",
       "      <td>Land Use</td>\n",
       "      <td>404</td>\n",
       "      <td>Kenya</td>\n",
       "      <td>5110</td>\n",
       "      <td>Area</td>\n",
       "      <td>6600</td>\n",
       "      <td>Country area</td>\n",
       "      <td>2001</td>\n",
       "      <td>2001</td>\n",
       "      <td>1000 ha</td>\n",
       "      <td>58037.0</td>\n",
       "      <td>A</td>\n",
       "      <td>Official figure</td>\n",
       "      <td>NaN</td>\n",
       "    </tr>\n",
       "    <tr>\n",
       "      <th>2</th>\n",
       "      <td>RL</td>\n",
       "      <td>Land Use</td>\n",
       "      <td>404</td>\n",
       "      <td>Kenya</td>\n",
       "      <td>5110</td>\n",
       "      <td>Area</td>\n",
       "      <td>6600</td>\n",
       "      <td>Country area</td>\n",
       "      <td>2002</td>\n",
       "      <td>2002</td>\n",
       "      <td>1000 ha</td>\n",
       "      <td>58037.0</td>\n",
       "      <td>A</td>\n",
       "      <td>Official figure</td>\n",
       "      <td>NaN</td>\n",
       "    </tr>\n",
       "    <tr>\n",
       "      <th>3</th>\n",
       "      <td>RL</td>\n",
       "      <td>Land Use</td>\n",
       "      <td>404</td>\n",
       "      <td>Kenya</td>\n",
       "      <td>5110</td>\n",
       "      <td>Area</td>\n",
       "      <td>6600</td>\n",
       "      <td>Country area</td>\n",
       "      <td>2003</td>\n",
       "      <td>2003</td>\n",
       "      <td>1000 ha</td>\n",
       "      <td>58037.0</td>\n",
       "      <td>A</td>\n",
       "      <td>Official figure</td>\n",
       "      <td>NaN</td>\n",
       "    </tr>\n",
       "    <tr>\n",
       "      <th>4</th>\n",
       "      <td>RL</td>\n",
       "      <td>Land Use</td>\n",
       "      <td>404</td>\n",
       "      <td>Kenya</td>\n",
       "      <td>5110</td>\n",
       "      <td>Area</td>\n",
       "      <td>6600</td>\n",
       "      <td>Country area</td>\n",
       "      <td>2004</td>\n",
       "      <td>2004</td>\n",
       "      <td>1000 ha</td>\n",
       "      <td>58037.0</td>\n",
       "      <td>I</td>\n",
       "      <td>Imputed value</td>\n",
       "      <td>NaN</td>\n",
       "    </tr>\n",
       "  </tbody>\n",
       "</table>\n",
       "</div>"
      ],
      "text/plain": [
       "  Domain Code    Domain  Area Code (M49)   Area  Element Code Element  \\\n",
       "0          RL  Land Use              404  Kenya          5110    Area   \n",
       "1          RL  Land Use              404  Kenya          5110    Area   \n",
       "2          RL  Land Use              404  Kenya          5110    Area   \n",
       "3          RL  Land Use              404  Kenya          5110    Area   \n",
       "4          RL  Land Use              404  Kenya          5110    Area   \n",
       "\n",
       "   Item Code          Item  Year Code  Year     Unit    Value Flag  \\\n",
       "0       6600  Country area       2000  2000  1000 ha  58037.0    A   \n",
       "1       6600  Country area       2001  2001  1000 ha  58037.0    A   \n",
       "2       6600  Country area       2002  2002  1000 ha  58037.0    A   \n",
       "3       6600  Country area       2003  2003  1000 ha  58037.0    A   \n",
       "4       6600  Country area       2004  2004  1000 ha  58037.0    I   \n",
       "\n",
       "  Flag Description  Note  \n",
       "0  Official figure   NaN  \n",
       "1  Official figure   NaN  \n",
       "2  Official figure   NaN  \n",
       "3  Official figure   NaN  \n",
       "4    Imputed value   NaN  "
      ]
     },
     "execution_count": 26,
     "metadata": {},
     "output_type": "execute_result"
    }
   ],
   "source": [
    "land_use = pd.read_csv('datasets/Land Use.csv')\n",
    "land_use.head()"
   ]
  },
  {
   "cell_type": "code",
   "execution_count": 27,
   "metadata": {},
   "outputs": [
    {
     "data": {
      "text/plain": [
       "Domain Code           0\n",
       "Domain                0\n",
       "Area Code (M49)       0\n",
       "Area                  0\n",
       "Element Code          0\n",
       "Element               0\n",
       "Item Code             0\n",
       "Item                  0\n",
       "Year Code             0\n",
       "Year                  0\n",
       "Unit                  0\n",
       "Value                 0\n",
       "Flag                  0\n",
       "Flag Description      0\n",
       "Note                230\n",
       "dtype: int64"
      ]
     },
     "execution_count": 27,
     "metadata": {},
     "output_type": "execute_result"
    }
   ],
   "source": [
    "land_use.isna().sum()"
   ]
  },
  {
   "cell_type": "code",
   "execution_count": 28,
   "metadata": {},
   "outputs": [
    {
     "data": {
      "text/html": [
       "<div>\n",
       "<style scoped>\n",
       "    .dataframe tbody tr th:only-of-type {\n",
       "        vertical-align: middle;\n",
       "    }\n",
       "\n",
       "    .dataframe tbody tr th {\n",
       "        vertical-align: top;\n",
       "    }\n",
       "\n",
       "    .dataframe thead th {\n",
       "        text-align: right;\n",
       "    }\n",
       "</style>\n",
       "<table border=\"1\" class=\"dataframe\">\n",
       "  <thead>\n",
       "    <tr style=\"text-align: right;\">\n",
       "      <th></th>\n",
       "      <th>Domain</th>\n",
       "      <th>Element</th>\n",
       "      <th>Item</th>\n",
       "      <th>Year</th>\n",
       "      <th>Unit</th>\n",
       "      <th>Value</th>\n",
       "    </tr>\n",
       "  </thead>\n",
       "  <tbody>\n",
       "    <tr>\n",
       "      <th>0</th>\n",
       "      <td>Land Use</td>\n",
       "      <td>Area</td>\n",
       "      <td>Country area</td>\n",
       "      <td>2000</td>\n",
       "      <td>1000 ha</td>\n",
       "      <td>58037.0</td>\n",
       "    </tr>\n",
       "    <tr>\n",
       "      <th>1</th>\n",
       "      <td>Land Use</td>\n",
       "      <td>Area</td>\n",
       "      <td>Country area</td>\n",
       "      <td>2001</td>\n",
       "      <td>1000 ha</td>\n",
       "      <td>58037.0</td>\n",
       "    </tr>\n",
       "    <tr>\n",
       "      <th>2</th>\n",
       "      <td>Land Use</td>\n",
       "      <td>Area</td>\n",
       "      <td>Country area</td>\n",
       "      <td>2002</td>\n",
       "      <td>1000 ha</td>\n",
       "      <td>58037.0</td>\n",
       "    </tr>\n",
       "    <tr>\n",
       "      <th>3</th>\n",
       "      <td>Land Use</td>\n",
       "      <td>Area</td>\n",
       "      <td>Country area</td>\n",
       "      <td>2003</td>\n",
       "      <td>1000 ha</td>\n",
       "      <td>58037.0</td>\n",
       "    </tr>\n",
       "    <tr>\n",
       "      <th>4</th>\n",
       "      <td>Land Use</td>\n",
       "      <td>Area</td>\n",
       "      <td>Country area</td>\n",
       "      <td>2004</td>\n",
       "      <td>1000 ha</td>\n",
       "      <td>58037.0</td>\n",
       "    </tr>\n",
       "  </tbody>\n",
       "</table>\n",
       "</div>"
      ],
      "text/plain": [
       "     Domain Element          Item  Year     Unit    Value\n",
       "0  Land Use    Area  Country area  2000  1000 ha  58037.0\n",
       "1  Land Use    Area  Country area  2001  1000 ha  58037.0\n",
       "2  Land Use    Area  Country area  2002  1000 ha  58037.0\n",
       "3  Land Use    Area  Country area  2003  1000 ha  58037.0\n",
       "4  Land Use    Area  Country area  2004  1000 ha  58037.0"
      ]
     },
     "execution_count": 28,
     "metadata": {},
     "output_type": "execute_result"
    }
   ],
   "source": [
    "land_use = land_use.drop(columns=[\"Domain Code\", \"Area Code (M49)\", \"Area\", \"Element Code\", \"Item Code\", \"Year Code\", \"Flag\", \"Flag Description\", \"Note\"])\n",
    "land_use.head()"
   ]
  },
  {
   "cell_type": "code",
   "execution_count": 29,
   "metadata": {},
   "outputs": [
    {
     "data": {
      "text/plain": [
       "Domain     0\n",
       "Element    0\n",
       "Item       0\n",
       "Year       0\n",
       "Unit       0\n",
       "Value      0\n",
       "dtype: int64"
      ]
     },
     "execution_count": 29,
     "metadata": {},
     "output_type": "execute_result"
    }
   ],
   "source": [
    "land_use.isna().sum()"
   ]
  },
  {
   "cell_type": "code",
   "execution_count": 30,
   "metadata": {},
   "outputs": [
    {
     "data": {
      "text/html": [
       "<div>\n",
       "<style scoped>\n",
       "    .dataframe tbody tr th:only-of-type {\n",
       "        vertical-align: middle;\n",
       "    }\n",
       "\n",
       "    .dataframe tbody tr th {\n",
       "        vertical-align: top;\n",
       "    }\n",
       "\n",
       "    .dataframe thead th {\n",
       "        text-align: right;\n",
       "    }\n",
       "</style>\n",
       "<table border=\"1\" class=\"dataframe\">\n",
       "  <thead>\n",
       "    <tr style=\"text-align: right;\">\n",
       "      <th></th>\n",
       "      <th>Year</th>\n",
       "      <th>Value</th>\n",
       "    </tr>\n",
       "  </thead>\n",
       "  <tbody>\n",
       "    <tr>\n",
       "      <th>count</th>\n",
       "      <td>230.000000</td>\n",
       "      <td>230.000000</td>\n",
       "    </tr>\n",
       "    <tr>\n",
       "      <th>mean</th>\n",
       "      <td>2011.217391</td>\n",
       "      <td>17797.633196</td>\n",
       "    </tr>\n",
       "    <tr>\n",
       "      <th>std</th>\n",
       "      <td>6.949327</td>\n",
       "      <td>22593.855254</td>\n",
       "    </tr>\n",
       "    <tr>\n",
       "      <th>min</th>\n",
       "      <td>2000.000000</td>\n",
       "      <td>0.135000</td>\n",
       "    </tr>\n",
       "    <tr>\n",
       "      <th>25%</th>\n",
       "      <td>2005.000000</td>\n",
       "      <td>23.877500</td>\n",
       "    </tr>\n",
       "    <tr>\n",
       "      <th>50%</th>\n",
       "      <td>2011.000000</td>\n",
       "      <td>3020.681100</td>\n",
       "    </tr>\n",
       "    <tr>\n",
       "      <th>75%</th>\n",
       "      <td>2017.000000</td>\n",
       "      <td>28428.743025</td>\n",
       "    </tr>\n",
       "    <tr>\n",
       "      <th>max</th>\n",
       "      <td>2023.000000</td>\n",
       "      <td>59196.900000</td>\n",
       "    </tr>\n",
       "  </tbody>\n",
       "</table>\n",
       "</div>"
      ],
      "text/plain": [
       "              Year         Value\n",
       "count   230.000000    230.000000\n",
       "mean   2011.217391  17797.633196\n",
       "std       6.949327  22593.855254\n",
       "min    2000.000000      0.135000\n",
       "25%    2005.000000     23.877500\n",
       "50%    2011.000000   3020.681100\n",
       "75%    2017.000000  28428.743025\n",
       "max    2023.000000  59196.900000"
      ]
     },
     "execution_count": 30,
     "metadata": {},
     "output_type": "execute_result"
    }
   ],
   "source": [
    "land_use.describe()"
   ]
  },
  {
   "cell_type": "code",
   "execution_count": 31,
   "metadata": {},
   "outputs": [
    {
     "name": "stdout",
     "output_type": "stream",
     "text": [
      "<class 'pandas.core.frame.DataFrame'>\n",
      "RangeIndex: 230 entries, 0 to 229\n",
      "Data columns (total 6 columns):\n",
      " #   Column   Non-Null Count  Dtype  \n",
      "---  ------   --------------  -----  \n",
      " 0   Domain   230 non-null    object \n",
      " 1   Element  230 non-null    object \n",
      " 2   Item     230 non-null    object \n",
      " 3   Year     230 non-null    int64  \n",
      " 4   Unit     230 non-null    object \n",
      " 5   Value    230 non-null    float64\n",
      "dtypes: float64(1), int64(1), object(4)\n",
      "memory usage: 10.9+ KB\n"
     ]
    }
   ],
   "source": [
    "land_use.info()"
   ]
  },
  {
   "cell_type": "code",
   "execution_count": null,
   "metadata": {},
   "outputs": [],
   "source": []
  },
  {
   "cell_type": "code",
   "execution_count": null,
   "metadata": {},
   "outputs": [],
   "source": []
  },
  {
   "cell_type": "markdown",
   "metadata": {},
   "source": [
    "# geospacial data\n"
   ]
  },
  {
   "cell_type": "code",
   "execution_count": 32,
   "metadata": {
    "scrolled": true
   },
   "outputs": [
    {
     "data": {
      "text/html": [
       "<div>\n",
       "<style scoped>\n",
       "    .dataframe tbody tr th:only-of-type {\n",
       "        vertical-align: middle;\n",
       "    }\n",
       "\n",
       "    .dataframe tbody tr th {\n",
       "        vertical-align: top;\n",
       "    }\n",
       "\n",
       "    .dataframe thead th {\n",
       "        text-align: right;\n",
       "    }\n",
       "</style>\n",
       "<table border=\"1\" class=\"dataframe\">\n",
       "  <thead>\n",
       "    <tr style=\"text-align: right;\">\n",
       "      <th></th>\n",
       "      <th>PARAMETER</th>\n",
       "      <th>YEAR</th>\n",
       "      <th>LAT</th>\n",
       "      <th>LON</th>\n",
       "      <th>JAN</th>\n",
       "      <th>FEB</th>\n",
       "      <th>MAR</th>\n",
       "      <th>APR</th>\n",
       "      <th>MAY</th>\n",
       "      <th>JUN</th>\n",
       "      <th>JUL</th>\n",
       "      <th>AUG</th>\n",
       "      <th>SEP</th>\n",
       "      <th>OCT</th>\n",
       "      <th>NOV</th>\n",
       "      <th>DEC</th>\n",
       "      <th>ANN</th>\n",
       "    </tr>\n",
       "  </thead>\n",
       "  <tbody>\n",
       "    <tr>\n",
       "      <th>0</th>\n",
       "      <td>T2M</td>\n",
       "      <td>2000</td>\n",
       "      <td>-0.5</td>\n",
       "      <td>33.750</td>\n",
       "      <td>25.78</td>\n",
       "      <td>25.78</td>\n",
       "      <td>25.38</td>\n",
       "      <td>25.16</td>\n",
       "      <td>24.97</td>\n",
       "      <td>24.03</td>\n",
       "      <td>23.77</td>\n",
       "      <td>23.81</td>\n",
       "      <td>24.83</td>\n",
       "      <td>24.07</td>\n",
       "      <td>23.67</td>\n",
       "      <td>24.42</td>\n",
       "      <td>24.64</td>\n",
       "    </tr>\n",
       "    <tr>\n",
       "      <th>1</th>\n",
       "      <td>T2M</td>\n",
       "      <td>2000</td>\n",
       "      <td>-0.5</td>\n",
       "      <td>34.375</td>\n",
       "      <td>25.47</td>\n",
       "      <td>26.00</td>\n",
       "      <td>25.88</td>\n",
       "      <td>25.25</td>\n",
       "      <td>24.98</td>\n",
       "      <td>24.32</td>\n",
       "      <td>23.70</td>\n",
       "      <td>23.81</td>\n",
       "      <td>24.64</td>\n",
       "      <td>23.95</td>\n",
       "      <td>23.38</td>\n",
       "      <td>23.32</td>\n",
       "      <td>24.55</td>\n",
       "    </tr>\n",
       "    <tr>\n",
       "      <th>2</th>\n",
       "      <td>T2M</td>\n",
       "      <td>2000</td>\n",
       "      <td>-0.5</td>\n",
       "      <td>35.000</td>\n",
       "      <td>22.27</td>\n",
       "      <td>23.08</td>\n",
       "      <td>23.30</td>\n",
       "      <td>22.20</td>\n",
       "      <td>21.69</td>\n",
       "      <td>20.57</td>\n",
       "      <td>19.77</td>\n",
       "      <td>20.22</td>\n",
       "      <td>20.98</td>\n",
       "      <td>21.17</td>\n",
       "      <td>20.69</td>\n",
       "      <td>20.35</td>\n",
       "      <td>21.35</td>\n",
       "    </tr>\n",
       "    <tr>\n",
       "      <th>3</th>\n",
       "      <td>T2M</td>\n",
       "      <td>2000</td>\n",
       "      <td>-0.5</td>\n",
       "      <td>35.625</td>\n",
       "      <td>16.31</td>\n",
       "      <td>16.87</td>\n",
       "      <td>17.85</td>\n",
       "      <td>16.67</td>\n",
       "      <td>16.10</td>\n",
       "      <td>14.53</td>\n",
       "      <td>13.67</td>\n",
       "      <td>13.92</td>\n",
       "      <td>14.82</td>\n",
       "      <td>15.54</td>\n",
       "      <td>15.43</td>\n",
       "      <td>15.53</td>\n",
       "      <td>15.60</td>\n",
       "    </tr>\n",
       "    <tr>\n",
       "      <th>4</th>\n",
       "      <td>T2M</td>\n",
       "      <td>2000</td>\n",
       "      <td>-0.5</td>\n",
       "      <td>36.250</td>\n",
       "      <td>16.61</td>\n",
       "      <td>17.30</td>\n",
       "      <td>18.35</td>\n",
       "      <td>17.05</td>\n",
       "      <td>16.40</td>\n",
       "      <td>14.83</td>\n",
       "      <td>14.02</td>\n",
       "      <td>14.03</td>\n",
       "      <td>15.12</td>\n",
       "      <td>15.88</td>\n",
       "      <td>15.89</td>\n",
       "      <td>16.53</td>\n",
       "      <td>16.00</td>\n",
       "    </tr>\n",
       "  </tbody>\n",
       "</table>\n",
       "</div>"
      ],
      "text/plain": [
       "  PARAMETER  YEAR  LAT     LON    JAN    FEB    MAR    APR    MAY    JUN  \\\n",
       "0       T2M  2000 -0.5  33.750  25.78  25.78  25.38  25.16  24.97  24.03   \n",
       "1       T2M  2000 -0.5  34.375  25.47  26.00  25.88  25.25  24.98  24.32   \n",
       "2       T2M  2000 -0.5  35.000  22.27  23.08  23.30  22.20  21.69  20.57   \n",
       "3       T2M  2000 -0.5  35.625  16.31  16.87  17.85  16.67  16.10  14.53   \n",
       "4       T2M  2000 -0.5  36.250  16.61  17.30  18.35  17.05  16.40  14.83   \n",
       "\n",
       "     JUL    AUG    SEP    OCT    NOV    DEC    ANN  \n",
       "0  23.77  23.81  24.83  24.07  23.67  24.42  24.64  \n",
       "1  23.70  23.81  24.64  23.95  23.38  23.32  24.55  \n",
       "2  19.77  20.22  20.98  21.17  20.69  20.35  21.35  \n",
       "3  13.67  13.92  14.82  15.54  15.43  15.53  15.60  \n",
       "4  14.02  14.03  15.12  15.88  15.89  16.53  16.00  "
      ]
     },
     "execution_count": 32,
     "metadata": {},
     "output_type": "execute_result"
    }
   ],
   "source": [
    "temperature = pd.read_csv(\"geological_data/Temperature at 2 Meters.csv\")\n",
    "temperature.head()"
   ]
  },
  {
   "cell_type": "code",
   "execution_count": 33,
   "metadata": {},
   "outputs": [
    {
     "data": {
      "text/html": [
       "<div>\n",
       "<style scoped>\n",
       "    .dataframe tbody tr th:only-of-type {\n",
       "        vertical-align: middle;\n",
       "    }\n",
       "\n",
       "    .dataframe tbody tr th {\n",
       "        vertical-align: top;\n",
       "    }\n",
       "\n",
       "    .dataframe thead th {\n",
       "        text-align: right;\n",
       "    }\n",
       "</style>\n",
       "<table border=\"1\" class=\"dataframe\">\n",
       "  <thead>\n",
       "    <tr style=\"text-align: right;\">\n",
       "      <th></th>\n",
       "      <th>PARAMETER</th>\n",
       "      <th>YEAR</th>\n",
       "      <th>LAT</th>\n",
       "      <th>LON</th>\n",
       "      <th>JAN</th>\n",
       "      <th>FEB</th>\n",
       "      <th>MAR</th>\n",
       "      <th>APR</th>\n",
       "      <th>MAY</th>\n",
       "      <th>JUN</th>\n",
       "      <th>JUL</th>\n",
       "      <th>AUG</th>\n",
       "      <th>SEP</th>\n",
       "      <th>OCT</th>\n",
       "      <th>NOV</th>\n",
       "      <th>DEC</th>\n",
       "      <th>ANN</th>\n",
       "    </tr>\n",
       "  </thead>\n",
       "  <tbody>\n",
       "    <tr>\n",
       "      <th>0</th>\n",
       "      <td>PRECTOTCORR</td>\n",
       "      <td>2000</td>\n",
       "      <td>-0.5</td>\n",
       "      <td>33.750</td>\n",
       "      <td>1.13</td>\n",
       "      <td>2.06</td>\n",
       "      <td>2.72</td>\n",
       "      <td>5.89</td>\n",
       "      <td>4.43</td>\n",
       "      <td>1.57</td>\n",
       "      <td>2.20</td>\n",
       "      <td>3.88</td>\n",
       "      <td>4.42</td>\n",
       "      <td>5.99</td>\n",
       "      <td>6.88</td>\n",
       "      <td>6.28</td>\n",
       "      <td>3.96</td>\n",
       "    </tr>\n",
       "    <tr>\n",
       "      <th>1</th>\n",
       "      <td>PRECTOTCORR</td>\n",
       "      <td>2000</td>\n",
       "      <td>-0.5</td>\n",
       "      <td>34.375</td>\n",
       "      <td>0.71</td>\n",
       "      <td>1.84</td>\n",
       "      <td>2.26</td>\n",
       "      <td>4.04</td>\n",
       "      <td>2.91</td>\n",
       "      <td>1.38</td>\n",
       "      <td>1.70</td>\n",
       "      <td>2.69</td>\n",
       "      <td>3.31</td>\n",
       "      <td>5.87</td>\n",
       "      <td>5.48</td>\n",
       "      <td>6.72</td>\n",
       "      <td>3.25</td>\n",
       "    </tr>\n",
       "    <tr>\n",
       "      <th>2</th>\n",
       "      <td>PRECTOTCORR</td>\n",
       "      <td>2000</td>\n",
       "      <td>-0.5</td>\n",
       "      <td>35.000</td>\n",
       "      <td>0.62</td>\n",
       "      <td>1.47</td>\n",
       "      <td>2.17</td>\n",
       "      <td>3.31</td>\n",
       "      <td>2.45</td>\n",
       "      <td>1.41</td>\n",
       "      <td>1.93</td>\n",
       "      <td>2.52</td>\n",
       "      <td>2.88</td>\n",
       "      <td>4.96</td>\n",
       "      <td>5.64</td>\n",
       "      <td>5.19</td>\n",
       "      <td>2.88</td>\n",
       "    </tr>\n",
       "    <tr>\n",
       "      <th>3</th>\n",
       "      <td>PRECTOTCORR</td>\n",
       "      <td>2000</td>\n",
       "      <td>-0.5</td>\n",
       "      <td>35.625</td>\n",
       "      <td>0.33</td>\n",
       "      <td>0.65</td>\n",
       "      <td>1.36</td>\n",
       "      <td>2.90</td>\n",
       "      <td>1.74</td>\n",
       "      <td>1.45</td>\n",
       "      <td>2.45</td>\n",
       "      <td>3.29</td>\n",
       "      <td>2.55</td>\n",
       "      <td>3.26</td>\n",
       "      <td>4.95</td>\n",
       "      <td>2.52</td>\n",
       "      <td>2.29</td>\n",
       "    </tr>\n",
       "    <tr>\n",
       "      <th>4</th>\n",
       "      <td>PRECTOTCORR</td>\n",
       "      <td>2000</td>\n",
       "      <td>-0.5</td>\n",
       "      <td>36.250</td>\n",
       "      <td>0.30</td>\n",
       "      <td>0.30</td>\n",
       "      <td>0.88</td>\n",
       "      <td>2.47</td>\n",
       "      <td>1.39</td>\n",
       "      <td>1.42</td>\n",
       "      <td>2.45</td>\n",
       "      <td>3.45</td>\n",
       "      <td>2.15</td>\n",
       "      <td>2.10</td>\n",
       "      <td>3.74</td>\n",
       "      <td>1.86</td>\n",
       "      <td>1.88</td>\n",
       "    </tr>\n",
       "  </tbody>\n",
       "</table>\n",
       "</div>"
      ],
      "text/plain": [
       "     PARAMETER  YEAR  LAT     LON   JAN   FEB   MAR   APR   MAY   JUN   JUL  \\\n",
       "0  PRECTOTCORR  2000 -0.5  33.750  1.13  2.06  2.72  5.89  4.43  1.57  2.20   \n",
       "1  PRECTOTCORR  2000 -0.5  34.375  0.71  1.84  2.26  4.04  2.91  1.38  1.70   \n",
       "2  PRECTOTCORR  2000 -0.5  35.000  0.62  1.47  2.17  3.31  2.45  1.41  1.93   \n",
       "3  PRECTOTCORR  2000 -0.5  35.625  0.33  0.65  1.36  2.90  1.74  1.45  2.45   \n",
       "4  PRECTOTCORR  2000 -0.5  36.250  0.30  0.30  0.88  2.47  1.39  1.42  2.45   \n",
       "\n",
       "    AUG   SEP   OCT   NOV   DEC   ANN  \n",
       "0  3.88  4.42  5.99  6.88  6.28  3.96  \n",
       "1  2.69  3.31  5.87  5.48  6.72  3.25  \n",
       "2  2.52  2.88  4.96  5.64  5.19  2.88  \n",
       "3  3.29  2.55  3.26  4.95  2.52  2.29  \n",
       "4  3.45  2.15  2.10  3.74  1.86  1.88  "
      ]
     },
     "execution_count": 33,
     "metadata": {},
     "output_type": "execute_result"
    }
   ],
   "source": [
    "precipitation = pd.read_csv(\"geological_data/precipitation average.csv\")\n",
    "precipitation.head()"
   ]
  },
  {
   "cell_type": "code",
   "execution_count": 34,
   "metadata": {},
   "outputs": [
    {
     "data": {
      "text/html": [
       "<div>\n",
       "<style scoped>\n",
       "    .dataframe tbody tr th:only-of-type {\n",
       "        vertical-align: middle;\n",
       "    }\n",
       "\n",
       "    .dataframe tbody tr th {\n",
       "        vertical-align: top;\n",
       "    }\n",
       "\n",
       "    .dataframe thead th {\n",
       "        text-align: right;\n",
       "    }\n",
       "</style>\n",
       "<table border=\"1\" class=\"dataframe\">\n",
       "  <thead>\n",
       "    <tr style=\"text-align: right;\">\n",
       "      <th></th>\n",
       "      <th>PARAMETER</th>\n",
       "      <th>YEAR</th>\n",
       "      <th>LAT</th>\n",
       "      <th>LON</th>\n",
       "      <th>JAN</th>\n",
       "      <th>FEB</th>\n",
       "      <th>MAR</th>\n",
       "      <th>APR</th>\n",
       "      <th>MAY</th>\n",
       "      <th>JUN</th>\n",
       "      <th>JUL</th>\n",
       "      <th>AUG</th>\n",
       "      <th>SEP</th>\n",
       "      <th>OCT</th>\n",
       "      <th>NOV</th>\n",
       "      <th>DEC</th>\n",
       "      <th>ANN</th>\n",
       "    </tr>\n",
       "  </thead>\n",
       "  <tbody>\n",
       "    <tr>\n",
       "      <th>0</th>\n",
       "      <td>GWETROOT</td>\n",
       "      <td>2000</td>\n",
       "      <td>-0.5</td>\n",
       "      <td>34.375</td>\n",
       "      <td>0.56</td>\n",
       "      <td>0.52</td>\n",
       "      <td>0.52</td>\n",
       "      <td>0.56</td>\n",
       "      <td>0.57</td>\n",
       "      <td>0.54</td>\n",
       "      <td>0.53</td>\n",
       "      <td>0.54</td>\n",
       "      <td>0.54</td>\n",
       "      <td>0.61</td>\n",
       "      <td>0.69</td>\n",
       "      <td>0.77</td>\n",
       "      <td>0.58</td>\n",
       "    </tr>\n",
       "    <tr>\n",
       "      <th>1</th>\n",
       "      <td>GWETROOT</td>\n",
       "      <td>2000</td>\n",
       "      <td>-0.5</td>\n",
       "      <td>35.000</td>\n",
       "      <td>0.51</td>\n",
       "      <td>0.48</td>\n",
       "      <td>0.49</td>\n",
       "      <td>0.51</td>\n",
       "      <td>0.51</td>\n",
       "      <td>0.49</td>\n",
       "      <td>0.49</td>\n",
       "      <td>0.50</td>\n",
       "      <td>0.51</td>\n",
       "      <td>0.54</td>\n",
       "      <td>0.60</td>\n",
       "      <td>0.65</td>\n",
       "      <td>0.52</td>\n",
       "    </tr>\n",
       "    <tr>\n",
       "      <th>2</th>\n",
       "      <td>GWETROOT</td>\n",
       "      <td>2000</td>\n",
       "      <td>-0.5</td>\n",
       "      <td>35.625</td>\n",
       "      <td>0.43</td>\n",
       "      <td>0.41</td>\n",
       "      <td>0.41</td>\n",
       "      <td>0.43</td>\n",
       "      <td>0.43</td>\n",
       "      <td>0.42</td>\n",
       "      <td>0.43</td>\n",
       "      <td>0.45</td>\n",
       "      <td>0.45</td>\n",
       "      <td>0.45</td>\n",
       "      <td>0.48</td>\n",
       "      <td>0.47</td>\n",
       "      <td>0.44</td>\n",
       "    </tr>\n",
       "    <tr>\n",
       "      <th>3</th>\n",
       "      <td>GWETROOT</td>\n",
       "      <td>2000</td>\n",
       "      <td>-0.5</td>\n",
       "      <td>36.250</td>\n",
       "      <td>0.38</td>\n",
       "      <td>0.37</td>\n",
       "      <td>0.36</td>\n",
       "      <td>0.39</td>\n",
       "      <td>0.38</td>\n",
       "      <td>0.38</td>\n",
       "      <td>0.39</td>\n",
       "      <td>0.41</td>\n",
       "      <td>0.41</td>\n",
       "      <td>0.40</td>\n",
       "      <td>0.42</td>\n",
       "      <td>0.40</td>\n",
       "      <td>0.39</td>\n",
       "    </tr>\n",
       "    <tr>\n",
       "      <th>4</th>\n",
       "      <td>GWETROOT</td>\n",
       "      <td>2000</td>\n",
       "      <td>-0.5</td>\n",
       "      <td>36.875</td>\n",
       "      <td>0.40</td>\n",
       "      <td>0.37</td>\n",
       "      <td>0.36</td>\n",
       "      <td>0.39</td>\n",
       "      <td>0.38</td>\n",
       "      <td>0.37</td>\n",
       "      <td>0.38</td>\n",
       "      <td>0.39</td>\n",
       "      <td>0.39</td>\n",
       "      <td>0.38</td>\n",
       "      <td>0.41</td>\n",
       "      <td>0.41</td>\n",
       "      <td>0.39</td>\n",
       "    </tr>\n",
       "  </tbody>\n",
       "</table>\n",
       "</div>"
      ],
      "text/plain": [
       "  PARAMETER  YEAR  LAT     LON   JAN   FEB   MAR   APR   MAY   JUN   JUL  \\\n",
       "0  GWETROOT  2000 -0.5  34.375  0.56  0.52  0.52  0.56  0.57  0.54  0.53   \n",
       "1  GWETROOT  2000 -0.5  35.000  0.51  0.48  0.49  0.51  0.51  0.49  0.49   \n",
       "2  GWETROOT  2000 -0.5  35.625  0.43  0.41  0.41  0.43  0.43  0.42  0.43   \n",
       "3  GWETROOT  2000 -0.5  36.250  0.38  0.37  0.36  0.39  0.38  0.38  0.39   \n",
       "4  GWETROOT  2000 -0.5  36.875  0.40  0.37  0.36  0.39  0.38  0.37  0.38   \n",
       "\n",
       "    AUG   SEP   OCT   NOV   DEC   ANN  \n",
       "0  0.54  0.54  0.61  0.69  0.77  0.58  \n",
       "1  0.50  0.51  0.54  0.60  0.65  0.52  \n",
       "2  0.45  0.45  0.45  0.48  0.47  0.44  \n",
       "3  0.41  0.41  0.40  0.42  0.40  0.39  \n",
       "4  0.39  0.39  0.38  0.41  0.41  0.39  "
      ]
     },
     "execution_count": 34,
     "metadata": {},
     "output_type": "execute_result"
    }
   ],
   "source": [
    "Soil_Wetness = pd.read_csv(\"geological_data/Zone Soil Wetness (surface to 100 cm below).csv\")\n",
    "Soil_Wetness.head()"
   ]
  },
  {
   "cell_type": "code",
   "execution_count": null,
   "metadata": {},
   "outputs": [],
   "source": []
  },
  {
   "cell_type": "code",
   "execution_count": null,
   "metadata": {},
   "outputs": [],
   "source": []
  },
  {
   "cell_type": "markdown",
   "metadata": {},
   "source": [
    "# PROCESSING GEOJSON FILES:\n"
   ]
  },
  {
   "cell_type": "code",
   "execution_count": 1,
   "metadata": {
    "scrolled": true
   },
   "outputs": [
    {
     "name": "stdout",
     "output_type": "stream",
     "text": [
      "Requirement already satisfied: geopandas in c:\\users\\ericg\\anaconda3\\envs\\learn-env\\lib\\site-packages (0.13.2)\n",
      "Requirement already satisfied: fiona>=1.8.19 in c:\\users\\ericg\\anaconda3\\envs\\learn-env\\lib\\site-packages (from geopandas) (1.10.1)\n",
      "Requirement already satisfied: pandas>=1.1.0 in c:\\users\\ericg\\anaconda3\\envs\\learn-env\\lib\\site-packages (from geopandas) (1.1.3)\n",
      "Requirement already satisfied: pyproj>=3.0.1 in c:\\users\\ericg\\anaconda3\\envs\\learn-env\\lib\\site-packages (from geopandas) (3.5.0)\n",
      "Requirement already satisfied: packaging in c:\\users\\ericg\\anaconda3\\envs\\learn-env\\lib\\site-packages (from geopandas) (20.4)\n",
      "Requirement already satisfied: shapely>=1.7.1 in c:\\users\\ericg\\anaconda3\\envs\\learn-env\\lib\\site-packages (from geopandas) (2.0.7)\n",
      "Requirement already satisfied: cligj>=0.5 in c:\\users\\ericg\\anaconda3\\envs\\learn-env\\lib\\site-packages (from fiona>=1.8.19->geopandas) (0.7.2)\n",
      "Requirement already satisfied: click-plugins>=1.0 in c:\\users\\ericg\\anaconda3\\envs\\learn-env\\lib\\site-packages (from fiona>=1.8.19->geopandas) (1.1.1.2)\n",
      "Requirement already satisfied: certifi in c:\\users\\ericg\\anaconda3\\envs\\learn-env\\lib\\site-packages (from fiona>=1.8.19->geopandas) (2024.8.30)\n",
      "Requirement already satisfied: click~=8.0 in c:\\users\\ericg\\anaconda3\\envs\\learn-env\\lib\\site-packages (from fiona>=1.8.19->geopandas) (8.1.8)\n",
      "Requirement already satisfied: attrs>=19.2.0 in c:\\users\\ericg\\anaconda3\\envs\\learn-env\\lib\\site-packages (from fiona>=1.8.19->geopandas) (20.2.0)\n",
      "Requirement already satisfied: importlib-metadata; python_version < \"3.10\" in c:\\users\\ericg\\anaconda3\\envs\\learn-env\\lib\\site-packages (from fiona>=1.8.19->geopandas) (2.0.0)\n",
      "Requirement already satisfied: python-dateutil>=2.7.3 in c:\\users\\ericg\\anaconda3\\envs\\learn-env\\lib\\site-packages (from pandas>=1.1.0->geopandas) (2.8.1)\n",
      "Requirement already satisfied: pytz>=2017.2 in c:\\users\\ericg\\anaconda3\\envs\\learn-env\\lib\\site-packages (from pandas>=1.1.0->geopandas) (2020.1)\n",
      "Requirement already satisfied: numpy>=1.15.4 in c:\\users\\ericg\\anaconda3\\envs\\learn-env\\lib\\site-packages (from pandas>=1.1.0->geopandas) (1.18.5)\n",
      "Requirement already satisfied: pyparsing>=2.0.2 in c:\\users\\ericg\\anaconda3\\envs\\learn-env\\lib\\site-packages (from packaging->geopandas) (2.4.7)\n",
      "Requirement already satisfied: six in c:\\users\\ericg\\anaconda3\\envs\\learn-env\\lib\\site-packages (from packaging->geopandas) (1.15.0)\n",
      "Requirement already satisfied: colorama; platform_system == \"Windows\" in c:\\users\\ericg\\anaconda3\\envs\\learn-env\\lib\\site-packages (from click~=8.0->fiona>=1.8.19->geopandas) (0.4.3)\n",
      "Requirement already satisfied: zipp>=0.5 in c:\\users\\ericg\\anaconda3\\envs\\learn-env\\lib\\site-packages (from importlib-metadata; python_version < \"3.10\"->fiona>=1.8.19->geopandas) (3.3.0)\n",
      "Note: you may need to restart the kernel to use updated packages.\n"
     ]
    }
   ],
   "source": [
    "pip install geopandas"
   ]
  },
  {
   "cell_type": "code",
   "execution_count": 2,
   "metadata": {
    "scrolled": true
   },
   "outputs": [
    {
     "name": "stdout",
     "output_type": "stream",
     "text": [
      "Requirement already up-to-date: fiona in c:\\users\\ericg\\anaconda3\\envs\\learn-env\\lib\\site-packages (1.10.1)\n",
      "Requirement already satisfied, skipping upgrade: cligj>=0.5 in c:\\users\\ericg\\anaconda3\\envs\\learn-env\\lib\\site-packages (from fiona) (0.7.2)\n",
      "Requirement already satisfied, skipping upgrade: click-plugins>=1.0 in c:\\users\\ericg\\anaconda3\\envs\\learn-env\\lib\\site-packages (from fiona) (1.1.1.2)\n",
      "Requirement already satisfied, skipping upgrade: click~=8.0 in c:\\users\\ericg\\anaconda3\\envs\\learn-env\\lib\\site-packages (from fiona) (8.1.8)\n",
      "Requirement already satisfied, skipping upgrade: importlib-metadata; python_version < \"3.10\" in c:\\users\\ericg\\anaconda3\\envs\\learn-env\\lib\\site-packages (from fiona) (2.0.0)\n",
      "Requirement already satisfied, skipping upgrade: attrs>=19.2.0 in c:\\users\\ericg\\anaconda3\\envs\\learn-env\\lib\\site-packages (from fiona) (20.2.0)\n",
      "Requirement already satisfied, skipping upgrade: certifi in c:\\users\\ericg\\anaconda3\\envs\\learn-env\\lib\\site-packages (from fiona) (2024.8.30)\n",
      "Requirement already satisfied, skipping upgrade: colorama; platform_system == \"Windows\" in c:\\users\\ericg\\anaconda3\\envs\\learn-env\\lib\\site-packages (from click~=8.0->fiona) (0.4.3)\n",
      "Requirement already satisfied, skipping upgrade: zipp>=0.5 in c:\\users\\ericg\\anaconda3\\envs\\learn-env\\lib\\site-packages (from importlib-metadata; python_version < \"3.10\"->fiona) (3.3.0)\n",
      "Note: you may need to restart the kernel to use updated packages.\n"
     ]
    }
   ],
   "source": [
    "pip install --upgrade fiona\n"
   ]
  },
  {
   "cell_type": "code",
   "execution_count": 3,
   "metadata": {
    "scrolled": true
   },
   "outputs": [
    {
     "name": "stdout",
     "output_type": "stream",
     "text": [
      "Requirement already up-to-date: fiona in c:\\users\\ericg\\anaconda3\\envs\\learn-env\\lib\\site-packages (1.10.1)\n",
      "Requirement already satisfied, skipping upgrade: attrs>=19.2.0 in c:\\users\\ericg\\anaconda3\\envs\\learn-env\\lib\\site-packages (from fiona) (20.2.0)\n",
      "Requirement already satisfied, skipping upgrade: click~=8.0 in c:\\users\\ericg\\anaconda3\\envs\\learn-env\\lib\\site-packages (from fiona) (8.1.8)\n",
      "Requirement already satisfied, skipping upgrade: cligj>=0.5 in c:\\users\\ericg\\anaconda3\\envs\\learn-env\\lib\\site-packages (from fiona) (0.7.2)\n",
      "Requirement already satisfied, skipping upgrade: click-plugins>=1.0 in c:\\users\\ericg\\anaconda3\\envs\\learn-env\\lib\\site-packages (from fiona) (1.1.1.2)\n",
      "Requirement already satisfied, skipping upgrade: importlib-metadata; python_version < \"3.10\" in c:\\users\\ericg\\anaconda3\\envs\\learn-env\\lib\\site-packages (from fiona) (2.0.0)\n",
      "Requirement already satisfied, skipping upgrade: certifi in c:\\users\\ericg\\anaconda3\\envs\\learn-env\\lib\\site-packages (from fiona) (2024.8.30)\n",
      "Requirement already satisfied, skipping upgrade: colorama; platform_system == \"Windows\" in c:\\users\\ericg\\anaconda3\\envs\\learn-env\\lib\\site-packages (from click~=8.0->fiona) (0.4.3)\n",
      "Requirement already satisfied, skipping upgrade: zipp>=0.5 in c:\\users\\ericg\\anaconda3\\envs\\learn-env\\lib\\site-packages (from importlib-metadata; python_version < \"3.10\"->fiona) (3.3.0)\n",
      "Note: you may need to restart the kernel to use updated packages.\n"
     ]
    }
   ],
   "source": [
    "pip install --upgrade fiona\n"
   ]
  },
  {
   "cell_type": "code",
   "execution_count": 8,
   "metadata": {},
   "outputs": [
    {
     "name": "stdout",
     "output_type": "stream",
     "text": [
      "1.10.1\n"
     ]
    }
   ],
   "source": [
    "import fiona\n",
    "print(fiona.__version__)\n"
   ]
  },
  {
   "cell_type": "code",
   "execution_count": 12,
   "metadata": {
    "scrolled": true
   },
   "outputs": [
    {
     "name": "stdout",
     "output_type": "stream",
     "text": [
      "Collecting rasterio\n",
      "  Downloading rasterio-1.3.11-cp38-cp38-win_amd64.whl (24.8 MB)\n",
      "Note: you may need to restart the kernel to use updated packages.\n",
      "Requirement already satisfied: click>=4.0 in c:\\users\\ericg\\anaconda3\\envs\\learn-env\\lib\\site-packages (from rasterio) (8.1.8)\n",
      "Requirement already satisfied: certifi in c:\\users\\ericg\\anaconda3\\envs\\learn-env\\lib\\site-packages (from rasterio) (2024.8.30)\n",
      "Requirement already satisfied: cligj>=0.5 in c:\\users\\ericg\\anaconda3\\envs\\learn-env\\lib\\site-packages (from rasterio) (0.7.2)\n",
      "Requirement already satisfied: importlib-metadata; python_version < \"3.10\" in c:\\users\\ericg\\anaconda3\\envs\\learn-env\\lib\\site-packages (from rasterio) (2.0.0)\n",
      "Requirement already satisfied: setuptools in c:\\users\\ericg\\anaconda3\\envs\\learn-env\\lib\\site-packages (from rasterio) (50.3.0.post20201103)\n",
      "Collecting affine\n",
      "  Downloading affine-2.4.0-py3-none-any.whl (15 kB)\n",
      "Requirement already satisfied: numpy in c:\\users\\ericg\\anaconda3\\envs\\learn-env\\lib\\site-packages (from rasterio) (1.18.5)\n",
      "Collecting snuggs>=1.4.1\n",
      "  Downloading snuggs-1.4.7-py3-none-any.whl (5.4 kB)\n",
      "Requirement already satisfied: click-plugins in c:\\users\\ericg\\anaconda3\\envs\\learn-env\\lib\\site-packages (from rasterio) (1.1.1.2)\n",
      "Requirement already satisfied: attrs in c:\\users\\ericg\\anaconda3\\envs\\learn-env\\lib\\site-packages (from rasterio) (20.2.0)\n",
      "Requirement already satisfied: colorama; platform_system == \"Windows\" in c:\\users\\ericg\\anaconda3\\envs\\learn-env\\lib\\site-packages (from click>=4.0->rasterio) (0.4.3)\n",
      "Requirement already satisfied: zipp>=0.5 in c:\\users\\ericg\\anaconda3\\envs\\learn-env\\lib\\site-packages (from importlib-metadata; python_version < \"3.10\"->rasterio) (3.3.0)\n",
      "Requirement already satisfied: pyparsing>=2.1.6 in c:\\users\\ericg\\anaconda3\\envs\\learn-env\\lib\\site-packages (from snuggs>=1.4.1->rasterio) (2.4.7)\n",
      "Installing collected packages: affine, snuggs, rasterio\n",
      "Successfully installed affine-2.4.0 rasterio-1.3.11 snuggs-1.4.7\n"
     ]
    }
   ],
   "source": [
    "pip install rasterio\n"
   ]
  },
  {
   "cell_type": "code",
   "execution_count": 14,
   "metadata": {},
   "outputs": [
    {
     "data": {
      "text/plain": [
       "'1.3.11'"
      ]
     },
     "execution_count": 14,
     "metadata": {},
     "output_type": "execute_result"
    }
   ],
   "source": [
    "import geopandas as gpd\n",
    "import rasterio\n",
    "rasterio.__version__"
   ]
  },
  {
   "cell_type": "markdown",
   "metadata": {},
   "source": [
    "## Reading files\n"
   ]
  },
  {
   "cell_type": "markdown",
   "metadata": {},
   "source": [
    "#### Creating a function to help load data quicker and take up less space"
   ]
  },
  {
   "cell_type": "code",
   "execution_count": 44,
   "metadata": {},
   "outputs": [],
   "source": [
    "def processing_data(filepath):\n",
    "    data = rasterio.open(filepath)\n",
    "    print(data)\n",
    "    array_data = data.read()\n",
    "    print(f\"this is an array of the data {array_data}\")\n",
    "    print(f\"this is the data information on the image {data.meta}\")\n",
    "\n",
    "    show(data)\n",
    "    show_hist(data, bins=5, title='histogram')\n",
    "    \n",
    "    "
   ]
  },
  {
   "cell_type": "code",
   "execution_count": 51,
   "metadata": {},
   "outputs": [
    {
     "name": "stdout",
     "output_type": "stream",
     "text": [
      "<open DatasetReader name='ksa_data/Kenya Crop Mask 2019.tiff' mode='r'>\n",
      "this is an array of the data [[[2 2 2 ... 2 2 2]\n",
      "  [2 2 2 ... 2 2 2]\n",
      "  [2 2 2 ... 2 2 2]\n",
      "  ...\n",
      "  [2 2 2 ... 2 2 2]\n",
      "  [2 2 2 ... 2 2 2]\n",
      "  [2 2 2 ... 2 2 2]]]\n",
      "this is the data information on the image {'driver': 'GTiff', 'dtype': 'uint8', 'nodata': None, 'width': 800, 'height': 1013, 'count': 1, 'crs': None, 'transform': Affine(1.0, 0.0, 0.0,\n",
      "       0.0, 1.0, 0.0)}\n"
     ]
    },
    {
     "data": {
      "image/png": "[encoded data removed]",
      "text/plain": [
       "<Figure size 432x288 with 1 Axes>"
      ]
     },
     "metadata": {
      "needs_background": "light"
     },
     "output_type": "display_data"
    },
    {
     "data": {
      "image/png": "[encoded data removed]",
      "text/plain": [
       "<Figure size 432x288 with 1 Axes>"
      ]
     },
     "metadata": {
      "needs_background": "light"
     },
     "output_type": "display_data"
    }
   ],
   "source": [
    "processing_data(\"ksa_data/Kenya Crop Mask 2019.tiff\")"
   ]
  },
  {
   "cell_type": "code",
   "execution_count": 45,
   "metadata": {},
   "outputs": [
    {
     "name": "stdout",
     "output_type": "stream",
     "text": [
      "<open DatasetReader name='ksa_data/Kenya NDVI 2022.tiff' mode='r'>\n",
      "this is an array of the data [[[253 253 253 ... 253 253 253]\n",
      "  [253 253 253 ... 253 253 253]\n",
      "  [253 253 253 ... 253 253 253]\n",
      "  ...\n",
      "  [253 253 253 ... 253 253 253]\n",
      "  [253 253 253 ... 253 253 253]\n",
      "  [253 253 253 ... 253 253 253]]]\n",
      "this is the data information on the image {'driver': 'GTiff', 'dtype': 'uint8', 'nodata': None, 'width': 800, 'height': 1013, 'count': 1, 'crs': None, 'transform': Affine(1.0, 0.0, 0.0,\n",
      "       0.0, 1.0, 0.0)}\n"
     ]
    },
    {
     "data": {
      "image/png": "[encoded data removed]",
      "text/plain": [
       "<Figure size 432x288 with 1 Axes>"
      ]
     },
     "metadata": {
      "needs_background": "light"
     },
     "output_type": "display_data"
    },
    {
     "data": {
      "image/png": "[encoded data removed]",
      "text/plain": [
       "<Figure size 432x288 with 1 Axes>"
      ]
     },
     "metadata": {
      "needs_background": "light"
     },
     "output_type": "display_data"
    }
   ],
   "source": [
    "processing_data(\"ksa_data/Kenya NDVI 2022.tiff\")"
   ]
  },
  {
   "cell_type": "code",
   "execution_count": 46,
   "metadata": {},
   "outputs": [
    {
     "name": "stdout",
     "output_type": "stream",
     "text": [
      "<open DatasetReader name='ksa_data/Kenya Soil Degradation Data.tiff' mode='r'>\n",
      "this is an array of the data [[[249 249 249 ... 249 249 249]\n",
      "  [249 249 249 ... 249 249 249]\n",
      "  [249 249 249 ... 249 249 249]\n",
      "  ...\n",
      "  [249 249 249 ... 249 249 249]\n",
      "  [249 249 249 ... 249 249 249]\n",
      "  [249 249 249 ... 249 249 249]]]\n",
      "this is the data information on the image {'driver': 'GTiff', 'dtype': 'uint8', 'nodata': None, 'width': 800, 'height': 1010, 'count': 1, 'crs': None, 'transform': Affine(1.0, 0.0, 0.0,\n",
      "       0.0, 1.0, 0.0)}\n"
     ]
    },
    {
     "data": {
      "image/png": "[encoded data removed]",
      "text/plain": [
       "<Figure size 432x288 with 1 Axes>"
      ]
     },
     "metadata": {
      "needs_background": "light"
     },
     "output_type": "display_data"
    },
    {
     "data": {
      "image/png": "[encoded data removed]",
      "text/plain": [
       "<Figure size 432x288 with 1 Axes>"
      ]
     },
     "metadata": {
      "needs_background": "light"
     },
     "output_type": "display_data"
    }
   ],
   "source": [
    "processing_data(\"ksa_data/Kenya Soil Degradation Data.tiff\")"
   ]
  },
  {
   "cell_type": "code",
   "execution_count": 47,
   "metadata": {},
   "outputs": [
    {
     "name": "stdout",
     "output_type": "stream",
     "text": [
      "<open DatasetReader name='ksa_data/Kenya Soil Texture Types.tiff' mode='r'>\n",
      "this is an array of the data [[[253 253 253 ... 253 253 253]\n",
      "  [253 253 253 ... 253 253 253]\n",
      "  [253 253 253 ... 253 253 253]\n",
      "  ...\n",
      "  [253 253 253 ... 253 253 253]\n",
      "  [253 253 253 ... 253 253 253]\n",
      "  [253 253 253 ... 253 253 253]]]\n",
      "this is the data information on the image {'driver': 'GTiff', 'dtype': 'uint8', 'nodata': None, 'width': 800, 'height': 1010, 'count': 1, 'crs': None, 'transform': Affine(1.0, 0.0, 0.0,\n",
      "       0.0, 1.0, 0.0)}\n"
     ]
    },
    {
     "data": {
      "image/png": "[encoded data removed]",
      "text/plain": [
       "<Figure size 432x288 with 1 Axes>"
      ]
     },
     "metadata": {
      "needs_background": "light"
     },
     "output_type": "display_data"
    },
    {
     "data": {
      "image/png": "[encoded data removed]",
      "text/plain": [
       "<Figure size 432x288 with 1 Axes>"
      ]
     },
     "metadata": {
      "needs_background": "light"
     },
     "output_type": "display_data"
    }
   ],
   "source": [
    "processing_data(\"ksa_data/Kenya Soil Texture Types.tiff\")"
   ]
  },
  {
   "cell_type": "code",
   "execution_count": 48,
   "metadata": {},
   "outputs": [
    {
     "name": "stdout",
     "output_type": "stream",
     "text": [
      "<open DatasetReader name='ksa_data/Kenya_CropType_EndOfSeason_LongRains_2021.tiff' mode='r'>\n",
      "this is an array of the data [[[10 10 10 ... 10 10 10]\n",
      "  [10 10 10 ... 10 10 10]\n",
      "  [10 10 10 ... 10 10 10]\n",
      "  ...\n",
      "  [10 10 10 ... 10 10 10]\n",
      "  [10 10 10 ... 10 10 10]\n",
      "  [10 10 10 ... 10 10 10]]]\n",
      "this is the data information on the image {'driver': 'GTiff', 'dtype': 'uint8', 'nodata': None, 'width': 800, 'height': 602, 'count': 1, 'crs': None, 'transform': Affine(1.0, 0.0, 0.0,\n",
      "       0.0, 1.0, 0.0)}\n"
     ]
    },
    {
     "data": {
      "image/png": "[encoded data removed]",
      "text/plain": [
       "<Figure size 432x288 with 1 Axes>"
      ]
     },
     "metadata": {
      "needs_background": "light"
     },
     "output_type": "display_data"
    },
    {
     "data": {
      "image/png": "[encoded data removed]",
      "text/plain": [
       "<Figure size 432x288 with 1 Axes>"
      ]
     },
     "metadata": {
      "needs_background": "light"
     },
     "output_type": "display_data"
    }
   ],
   "source": [
    "processing_data(\"ksa_data/Kenya_CropType_EndOfSeason_LongRains_2021.tiff\")"
   ]
  },
  {
   "cell_type": "code",
   "execution_count": 49,
   "metadata": {},
   "outputs": [
    {
     "name": "stdout",
     "output_type": "stream",
     "text": [
      "<open DatasetReader name='ksa_data/Kenya_CropType_EndOfSeason_LongRains_2023.tiff' mode='r'>\n",
      "this is an array of the data [[[10 10 10 ... 10 10 10]\n",
      "  [10 10 10 ... 10 10 10]\n",
      "  [10 10 10 ... 10 10 10]\n",
      "  ...\n",
      "  [10 10 10 ... 10 10 10]\n",
      "  [10 10 10 ... 10 10 10]\n",
      "  [10 10 10 ... 10 10 10]]]\n",
      "this is the data information on the image {'driver': 'GTiff', 'dtype': 'uint8', 'nodata': None, 'width': 800, 'height': 751, 'count': 1, 'crs': None, 'transform': Affine(1.0, 0.0, 0.0,\n",
      "       0.0, 1.0, 0.0)}\n"
     ]
    },
    {
     "data": {
      "image/png": "[encoded data removed]",
      "text/plain": [
       "<Figure size 432x288 with 1 Axes>"
      ]
     },
     "metadata": {
      "needs_background": "light"
     },
     "output_type": "display_data"
    },
    {
     "data": {
      "image/png": "[encoded data removed]",
      "text/plain": [
       "<Figure size 432x288 with 1 Axes>"
      ]
     },
     "metadata": {
      "needs_background": "light"
     },
     "output_type": "display_data"
    }
   ],
   "source": [
    "processing_data(\"ksa_data/Kenya_CropType_EndOfSeason_LongRains_2023.tiff\")"
   ]
  },
  {
   "cell_type": "code",
   "execution_count": 50,
   "metadata": {},
   "outputs": [
    {
     "name": "stdout",
     "output_type": "stream",
     "text": [
      "<open DatasetReader name='ksa_data/Kenya_CropType_InSeason_ShortRains_2022-2023.tiff' mode='r'>\n",
      "this is an array of the data [[[10 10 10 ... 10 10 10]\n",
      "  [10 10 10 ... 10 10 10]\n",
      "  [10 10 10 ... 10 10 10]\n",
      "  ...\n",
      "  [10 10 10 ... 10 10 10]\n",
      "  [10 10 10 ... 10 10 10]\n",
      "  [10 10 10 ... 10 10 10]]]\n",
      "this is the data information on the image {'driver': 'GTiff', 'dtype': 'uint8', 'nodata': None, 'width': 800, 'height': 751, 'count': 1, 'crs': None, 'transform': Affine(1.0, 0.0, 0.0,\n",
      "       0.0, 1.0, 0.0)}\n"
     ]
    },
    {
     "data": {
      "image/png": "[encoded data removed]",
      "text/plain": [
       "<Figure size 432x288 with 1 Axes>"
      ]
     },
     "metadata": {
      "needs_background": "light"
     },
     "output_type": "display_data"
    },
    {
     "data": {
      "image/png": "[encoded data removed]",
      "text/plain": [
       "<Figure size 432x288 with 1 Axes>"
      ]
     },
     "metadata": {
      "needs_background": "light"
     },
     "output_type": "display_data"
    }
   ],
   "source": [
    "processing_data(\"ksa_data/Kenya_CropType_InSeason_ShortRains_2022-2023.tiff\")"
   ]
  },
  {
   "cell_type": "markdown",
   "metadata": {},
   "source": [
    "A DN value in an NDVI raster might correspond to vegetation index levels (e.g. greener = higher DN)\n",
    "\n",
    "In a crop mask, DN values could represent presence or absence of crops or specific crop types\n",
    "\n",
    "For soil or degradation maps, different DNs might map to soil classes or condition levels"
   ]
  },
  {
   "cell_type": "code",
   "execution_count": null,
   "metadata": {},
   "outputs": [],
   "source": []
  }
 ],
 "metadata": {
  "kernelspec": {
   "display_name": "Python (learn-env)",
   "language": "python",
   "name": "learn-env"
  },
  "language_info": {
   "codemirror_mode": {
    "name": "ipython",
    "version": 3
   },
   "file_extension": ".py",
   "mimetype": "text/x-python",
   "name": "python",
   "nbconvert_exporter": "python",
   "pygments_lexer": "ipython3",
   "version": "3.8.5"
  }
 },
 "nbformat": 4,
 "nbformat_minor": 4
}
