{
 "cells": [
  {
   "cell_type": "code",
   "execution_count": null,
   "id": "bdd5f5cd",
   "metadata": {},
   "outputs": [],
   "source": [
    "import pandas as pd\n",
    "import random\n",
    "\n",
    "# Load crop condition data\n",
    "crop_conditions = pd.read_csv(\"crop_conditions.csv\")\n",
    "\n",
    "# Rename for consistency (if needed)\n",
    "crop_conditions = crop_conditions.rename(columns={\n",
    "    'Crop': 'crop_name'\n",
    "})\n",
    "\n",
    "# Ensure correct types\n",
    "crop_conditions[['Rainfall_Min_mm', 'Rainfall_Max_mm', 'pH_Min', 'pH_Max']] = crop_conditions[\n",
    "    ['Rainfall_Min_mm', 'Rainfall_Max_mm', 'pH_Min', 'pH_Max']\n",
    "].astype(float)\n",
    "\n",
    "# Rename county_data for clarity\n",
    "county_data = county_data.rename(columns={\n",
    "    'Mean precipitation': 'rainfall',\n",
    "    'Mean soil wetness': 'pH'\n",
    "})"
   ]
  },
  {
   "cell_type": "code",
   "execution_count": null,
   "id": "3a38ff25",
   "metadata": {},
   "outputs": [],
   "source": [
    "# Cross join to assign each crop to each county\n",
    "county_data['key'] = 1\n",
    "crop_conditions['key'] = 1\n",
    "\n",
    "merged_df = pd.merge(county_data, crop_conditions, on='key').drop(columns='key')\n"
   ]
  },
  {
   "cell_type": "code",
   "execution_count": null,
   "id": "bed8d333",
   "metadata": {},
   "outputs": [],
   "source": [
    "def generate_suitability(row):\n",
    "    try:\n",
    "        rainfall_ok = row['Rainfall_Min_mm'] <= row['rainfall'] <= row['Rainfall_Max_mm']\n",
    "        pH_ok = row['pH_Min'] <= row['pH'] <= row['pH_Max']\n",
    "        \n",
    "        suitability = rainfall_ok and pH_ok\n",
    "\n",
    "    \n",
    "        if random.random() < 0.1:\n",
    "            suitability = not suitability\n",
    "\n",
    "        return int(suitability)\n",
    "    except:\n",
    "        return 0"
   ]
  },
  {
   "cell_type": "code",
   "execution_count": null,
   "id": "173bc680",
   "metadata": {},
   "outputs": [],
   "source": [
    "merged_df['suitable'] = merged_df.apply(generate_suitability, axis=1)\n",
    "\n",
    "# Export to CSV\n",
    "merged_df.to_csv(\"merged_data.csv\", index=False)"
   ]
  }
 ],
 "metadata": {
  "language_info": {
   "name": "python"
  }
 },
 "nbformat": 4,
 "nbformat_minor": 5
}
